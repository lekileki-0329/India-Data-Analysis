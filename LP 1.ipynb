{
 "cells": [
  {
   "cell_type": "markdown",
   "id": "7e60d974",
   "metadata": {},
   "source": [
    "<H1 style=\"text-align: center;font-size:30px ; font-family: 'Times New Roman'; color:#00008B\"> Project Title</H1>"
   ]
  },
  {
   "cell_type": "markdown",
   "id": "e80ee7d5",
   "metadata": {},
   "source": [
    "<p style=\"text-align: center;font-size:22px ;font-weight: bold ; font-family: 'Times New Roman'\"> Analysis of Funding Trends in the Indian Startup Ecosystem</p>"
   ]
  },
  {
   "cell_type": "markdown",
   "id": "107dc886",
   "metadata": {},
   "source": [
    "<H1 style=\"text-align: center;font-size:30px ; font-family: 'Times New Roman'; color: #00008B\"> Project Description</H1>"
   ]
  },
  {
   "cell_type": "markdown",
   "id": "a7de2093",
   "metadata": {},
   "source": [
    "#### The goal of this initiative is to provide information to important players who are considering entering the Indian startup ecosystem.\n",
    "\n",
    "#### In order to do this, I will examine important indicators of investment received by startups in India from 2018 to 2021. Management will make strategic business decisions using these information.\n",
    "\n",
    "#### I created a hypothesis to test the dataset so that I might get a valid conclusion. In order to determine which year is more likely to attract investment from investors, the data were analyzed in terms of year founded and funding amount received.\n",
    "\n"
   ]
  },
  {
   "cell_type": "markdown",
   "id": "d4963a15",
   "metadata": {},
   "source": [
    "<H1 style=\"text-align: center;font-size:30px ; font-family: 'Times New Roman'; color: #00008B\"> Questions :</H1>"
   ]
  },
  {
   "cell_type": "markdown",
   "id": "1831ad7e",
   "metadata": {},
   "source": [
    "<ol type=\"1\"style=\"font-size:17px;font-weight: bold;font-family: 'Times New Roman'\"> \n",
    "    <li>Does the sort of industry have an impact on funding success?</li>\n",
    "    <li>Can the success of obtaining finance from investors be impacted by location?</li>\n",
    "    <li>Which stage receives more investment from investors for start-ups?</li>\n",
    "    <li>Who makes the biggest investments among investors?</li>\n",
    "    <li>Can the startup's stage effect the amount of funding it receives from investors?</li>\n",
    "</ol>"
   ]
  },
  {
   "cell_type": "markdown",
   "id": "c5a83997",
   "metadata": {},
   "source": [
    "<H1 style=\"text-align: center;font-size:30px ; font-family: 'Times New Roman'; color: #00008B\"> Hypothesis :</H1>"
   ]
  },
  {
   "cell_type": "markdown",
   "id": "3a1e0633",
   "metadata": {},
   "source": [
    "#### I created the null and alternate hypotheses to concentrate on two groups: companies that are technology-biased and startups that are not technology-biased, in order to further evaluate and analyze the data. Hence, the following two hypotheses are presented:\n",
    "\n",
    "#### `NULL`: The year of start up  does not influence the funding received. \n",
    "#### `ALTERNATE`: The year of start up influences the funding received."
   ]
  },
  {
   "cell_type": "markdown",
   "id": "fd95e646",
   "metadata": {},
   "source": [
    "<H1 style=\"text-align: center;font-size:30px ; font-family: 'Times New Roman'; color: #00008B\"> Data Preparation :</H1>"
   ]
  },
  {
   "cell_type": "markdown",
   "id": "a20e6c23",
   "metadata": {},
   "source": [
    "## Importing all Relevant Libraries"
   ]
  },
  {
   "cell_type": "code",
   "execution_count": 1,
   "id": "e85b90b0",
   "metadata": {},
   "outputs": [],
   "source": [
    "import numpy as np\n",
    "import pandas as pd\n",
    "import seaborn as sns\n",
    "import matplotlib.pyplot as plt\n",
    "import scipy\n",
    "from scipy import stats\n",
    "from summarytools import dfSummary\n",
    "import warnings\n",
    "warnings.filterwarnings(\"ignore\")\n",
    "\n",
    "sns.set_theme(style=\"whitegrid\")\n",
    "\n",
    "import os\n",
    "\n",
    "# numpy and pandas will be used for data handling\n",
    "# seaborn and matplotlib will be used for data visualization"
   ]
  },
  {
   "cell_type": "markdown",
   "id": "107d5ed8",
   "metadata": {},
   "source": [
    "## Data Loading"
   ]
  },
  {
   "cell_type": "code",
   "execution_count": 2,
   "id": "ca49e1b1",
   "metadata": {},
   "outputs": [
    {
     "ename": "FileNotFoundError",
     "evalue": "[Errno 2] No such file or directory: 'startup_funding2019.csv'",
     "output_type": "error",
     "traceback": [
      "\u001b[1;31m---------------------------------------------------------------------------\u001b[0m",
      "\u001b[1;31mFileNotFoundError\u001b[0m                         Traceback (most recent call last)",
      "Cell \u001b[1;32mIn[2], line 3\u001b[0m\n\u001b[0;32m      1\u001b[0m \u001b[38;5;66;03m# For CSV, use pandas.read_csv, this helps you to load the CSV file or data and to hande the dataframe\u001b[39;00m\n\u001b[0;32m      2\u001b[0m data_2018 \u001b[38;5;241m=\u001b[39m pd\u001b[38;5;241m.\u001b[39mread_csv(\u001b[38;5;124m'\u001b[39m\u001b[38;5;124mstartup_funding2018.csv\u001b[39m\u001b[38;5;124m'\u001b[39m)\n\u001b[1;32m----> 3\u001b[0m data_2019 \u001b[38;5;241m=\u001b[39m \u001b[43mpd\u001b[49m\u001b[38;5;241;43m.\u001b[39;49m\u001b[43mread_csv\u001b[49m\u001b[43m(\u001b[49m\u001b[38;5;124;43m'\u001b[39;49m\u001b[38;5;124;43mstartup_funding2019.csv\u001b[39;49m\u001b[38;5;124;43m'\u001b[39;49m\u001b[43m)\u001b[49m\n\u001b[0;32m      4\u001b[0m data_2020 \u001b[38;5;241m=\u001b[39m pd\u001b[38;5;241m.\u001b[39mread_csv(\u001b[38;5;124m'\u001b[39m\u001b[38;5;124mstartup_funding2020.csv\u001b[39m\u001b[38;5;124m'\u001b[39m)\n\u001b[0;32m      5\u001b[0m data_2021 \u001b[38;5;241m=\u001b[39m pd\u001b[38;5;241m.\u001b[39mread_csv(\u001b[38;5;124m'\u001b[39m\u001b[38;5;124mstartup_funding2021.csv\u001b[39m\u001b[38;5;124m'\u001b[39m)\n",
      "File \u001b[1;32m~\\AppData\\Local\\anaconda3\\lib\\site-packages\\pandas\\util\\_decorators.py:211\u001b[0m, in \u001b[0;36mdeprecate_kwarg.<locals>._deprecate_kwarg.<locals>.wrapper\u001b[1;34m(*args, **kwargs)\u001b[0m\n\u001b[0;32m    209\u001b[0m     \u001b[38;5;28;01melse\u001b[39;00m:\n\u001b[0;32m    210\u001b[0m         kwargs[new_arg_name] \u001b[38;5;241m=\u001b[39m new_arg_value\n\u001b[1;32m--> 211\u001b[0m \u001b[38;5;28;01mreturn\u001b[39;00m func(\u001b[38;5;241m*\u001b[39margs, \u001b[38;5;241m*\u001b[39m\u001b[38;5;241m*\u001b[39mkwargs)\n",
      "File \u001b[1;32m~\\AppData\\Local\\anaconda3\\lib\\site-packages\\pandas\\util\\_decorators.py:331\u001b[0m, in \u001b[0;36mdeprecate_nonkeyword_arguments.<locals>.decorate.<locals>.wrapper\u001b[1;34m(*args, **kwargs)\u001b[0m\n\u001b[0;32m    325\u001b[0m \u001b[38;5;28;01mif\u001b[39;00m \u001b[38;5;28mlen\u001b[39m(args) \u001b[38;5;241m>\u001b[39m num_allow_args:\n\u001b[0;32m    326\u001b[0m     warnings\u001b[38;5;241m.\u001b[39mwarn(\n\u001b[0;32m    327\u001b[0m         msg\u001b[38;5;241m.\u001b[39mformat(arguments\u001b[38;5;241m=\u001b[39m_format_argument_list(allow_args)),\n\u001b[0;32m    328\u001b[0m         \u001b[38;5;167;01mFutureWarning\u001b[39;00m,\n\u001b[0;32m    329\u001b[0m         stacklevel\u001b[38;5;241m=\u001b[39mfind_stack_level(),\n\u001b[0;32m    330\u001b[0m     )\n\u001b[1;32m--> 331\u001b[0m \u001b[38;5;28;01mreturn\u001b[39;00m func(\u001b[38;5;241m*\u001b[39margs, \u001b[38;5;241m*\u001b[39m\u001b[38;5;241m*\u001b[39mkwargs)\n",
      "File \u001b[1;32m~\\AppData\\Local\\anaconda3\\lib\\site-packages\\pandas\\io\\parsers\\readers.py:950\u001b[0m, in \u001b[0;36mread_csv\u001b[1;34m(filepath_or_buffer, sep, delimiter, header, names, index_col, usecols, squeeze, prefix, mangle_dupe_cols, dtype, engine, converters, true_values, false_values, skipinitialspace, skiprows, skipfooter, nrows, na_values, keep_default_na, na_filter, verbose, skip_blank_lines, parse_dates, infer_datetime_format, keep_date_col, date_parser, dayfirst, cache_dates, iterator, chunksize, compression, thousands, decimal, lineterminator, quotechar, quoting, doublequote, escapechar, comment, encoding, encoding_errors, dialect, error_bad_lines, warn_bad_lines, on_bad_lines, delim_whitespace, low_memory, memory_map, float_precision, storage_options)\u001b[0m\n\u001b[0;32m    935\u001b[0m kwds_defaults \u001b[38;5;241m=\u001b[39m _refine_defaults_read(\n\u001b[0;32m    936\u001b[0m     dialect,\n\u001b[0;32m    937\u001b[0m     delimiter,\n\u001b[1;32m   (...)\u001b[0m\n\u001b[0;32m    946\u001b[0m     defaults\u001b[38;5;241m=\u001b[39m{\u001b[38;5;124m\"\u001b[39m\u001b[38;5;124mdelimiter\u001b[39m\u001b[38;5;124m\"\u001b[39m: \u001b[38;5;124m\"\u001b[39m\u001b[38;5;124m,\u001b[39m\u001b[38;5;124m\"\u001b[39m},\n\u001b[0;32m    947\u001b[0m )\n\u001b[0;32m    948\u001b[0m kwds\u001b[38;5;241m.\u001b[39mupdate(kwds_defaults)\n\u001b[1;32m--> 950\u001b[0m \u001b[38;5;28;01mreturn\u001b[39;00m \u001b[43m_read\u001b[49m\u001b[43m(\u001b[49m\u001b[43mfilepath_or_buffer\u001b[49m\u001b[43m,\u001b[49m\u001b[43m \u001b[49m\u001b[43mkwds\u001b[49m\u001b[43m)\u001b[49m\n",
      "File \u001b[1;32m~\\AppData\\Local\\anaconda3\\lib\\site-packages\\pandas\\io\\parsers\\readers.py:605\u001b[0m, in \u001b[0;36m_read\u001b[1;34m(filepath_or_buffer, kwds)\u001b[0m\n\u001b[0;32m    602\u001b[0m _validate_names(kwds\u001b[38;5;241m.\u001b[39mget(\u001b[38;5;124m\"\u001b[39m\u001b[38;5;124mnames\u001b[39m\u001b[38;5;124m\"\u001b[39m, \u001b[38;5;28;01mNone\u001b[39;00m))\n\u001b[0;32m    604\u001b[0m \u001b[38;5;66;03m# Create the parser.\u001b[39;00m\n\u001b[1;32m--> 605\u001b[0m parser \u001b[38;5;241m=\u001b[39m TextFileReader(filepath_or_buffer, \u001b[38;5;241m*\u001b[39m\u001b[38;5;241m*\u001b[39mkwds)\n\u001b[0;32m    607\u001b[0m \u001b[38;5;28;01mif\u001b[39;00m chunksize \u001b[38;5;129;01mor\u001b[39;00m iterator:\n\u001b[0;32m    608\u001b[0m     \u001b[38;5;28;01mreturn\u001b[39;00m parser\n",
      "File \u001b[1;32m~\\AppData\\Local\\anaconda3\\lib\\site-packages\\pandas\\io\\parsers\\readers.py:1442\u001b[0m, in \u001b[0;36mTextFileReader.__init__\u001b[1;34m(self, f, engine, **kwds)\u001b[0m\n\u001b[0;32m   1439\u001b[0m     \u001b[38;5;28mself\u001b[39m\u001b[38;5;241m.\u001b[39moptions[\u001b[38;5;124m\"\u001b[39m\u001b[38;5;124mhas_index_names\u001b[39m\u001b[38;5;124m\"\u001b[39m] \u001b[38;5;241m=\u001b[39m kwds[\u001b[38;5;124m\"\u001b[39m\u001b[38;5;124mhas_index_names\u001b[39m\u001b[38;5;124m\"\u001b[39m]\n\u001b[0;32m   1441\u001b[0m \u001b[38;5;28mself\u001b[39m\u001b[38;5;241m.\u001b[39mhandles: IOHandles \u001b[38;5;241m|\u001b[39m \u001b[38;5;28;01mNone\u001b[39;00m \u001b[38;5;241m=\u001b[39m \u001b[38;5;28;01mNone\u001b[39;00m\n\u001b[1;32m-> 1442\u001b[0m \u001b[38;5;28mself\u001b[39m\u001b[38;5;241m.\u001b[39m_engine \u001b[38;5;241m=\u001b[39m \u001b[38;5;28;43mself\u001b[39;49m\u001b[38;5;241;43m.\u001b[39;49m\u001b[43m_make_engine\u001b[49m\u001b[43m(\u001b[49m\u001b[43mf\u001b[49m\u001b[43m,\u001b[49m\u001b[43m \u001b[49m\u001b[38;5;28;43mself\u001b[39;49m\u001b[38;5;241;43m.\u001b[39;49m\u001b[43mengine\u001b[49m\u001b[43m)\u001b[49m\n",
      "File \u001b[1;32m~\\AppData\\Local\\anaconda3\\lib\\site-packages\\pandas\\io\\parsers\\readers.py:1735\u001b[0m, in \u001b[0;36mTextFileReader._make_engine\u001b[1;34m(self, f, engine)\u001b[0m\n\u001b[0;32m   1733\u001b[0m     \u001b[38;5;28;01mif\u001b[39;00m \u001b[38;5;124m\"\u001b[39m\u001b[38;5;124mb\u001b[39m\u001b[38;5;124m\"\u001b[39m \u001b[38;5;129;01mnot\u001b[39;00m \u001b[38;5;129;01min\u001b[39;00m mode:\n\u001b[0;32m   1734\u001b[0m         mode \u001b[38;5;241m+\u001b[39m\u001b[38;5;241m=\u001b[39m \u001b[38;5;124m\"\u001b[39m\u001b[38;5;124mb\u001b[39m\u001b[38;5;124m\"\u001b[39m\n\u001b[1;32m-> 1735\u001b[0m \u001b[38;5;28mself\u001b[39m\u001b[38;5;241m.\u001b[39mhandles \u001b[38;5;241m=\u001b[39m \u001b[43mget_handle\u001b[49m\u001b[43m(\u001b[49m\n\u001b[0;32m   1736\u001b[0m \u001b[43m    \u001b[49m\u001b[43mf\u001b[49m\u001b[43m,\u001b[49m\n\u001b[0;32m   1737\u001b[0m \u001b[43m    \u001b[49m\u001b[43mmode\u001b[49m\u001b[43m,\u001b[49m\n\u001b[0;32m   1738\u001b[0m \u001b[43m    \u001b[49m\u001b[43mencoding\u001b[49m\u001b[38;5;241;43m=\u001b[39;49m\u001b[38;5;28;43mself\u001b[39;49m\u001b[38;5;241;43m.\u001b[39;49m\u001b[43moptions\u001b[49m\u001b[38;5;241;43m.\u001b[39;49m\u001b[43mget\u001b[49m\u001b[43m(\u001b[49m\u001b[38;5;124;43m\"\u001b[39;49m\u001b[38;5;124;43mencoding\u001b[39;49m\u001b[38;5;124;43m\"\u001b[39;49m\u001b[43m,\u001b[49m\u001b[43m \u001b[49m\u001b[38;5;28;43;01mNone\u001b[39;49;00m\u001b[43m)\u001b[49m\u001b[43m,\u001b[49m\n\u001b[0;32m   1739\u001b[0m \u001b[43m    \u001b[49m\u001b[43mcompression\u001b[49m\u001b[38;5;241;43m=\u001b[39;49m\u001b[38;5;28;43mself\u001b[39;49m\u001b[38;5;241;43m.\u001b[39;49m\u001b[43moptions\u001b[49m\u001b[38;5;241;43m.\u001b[39;49m\u001b[43mget\u001b[49m\u001b[43m(\u001b[49m\u001b[38;5;124;43m\"\u001b[39;49m\u001b[38;5;124;43mcompression\u001b[39;49m\u001b[38;5;124;43m\"\u001b[39;49m\u001b[43m,\u001b[49m\u001b[43m \u001b[49m\u001b[38;5;28;43;01mNone\u001b[39;49;00m\u001b[43m)\u001b[49m\u001b[43m,\u001b[49m\n\u001b[0;32m   1740\u001b[0m \u001b[43m    \u001b[49m\u001b[43mmemory_map\u001b[49m\u001b[38;5;241;43m=\u001b[39;49m\u001b[38;5;28;43mself\u001b[39;49m\u001b[38;5;241;43m.\u001b[39;49m\u001b[43moptions\u001b[49m\u001b[38;5;241;43m.\u001b[39;49m\u001b[43mget\u001b[49m\u001b[43m(\u001b[49m\u001b[38;5;124;43m\"\u001b[39;49m\u001b[38;5;124;43mmemory_map\u001b[39;49m\u001b[38;5;124;43m\"\u001b[39;49m\u001b[43m,\u001b[49m\u001b[43m \u001b[49m\u001b[38;5;28;43;01mFalse\u001b[39;49;00m\u001b[43m)\u001b[49m\u001b[43m,\u001b[49m\n\u001b[0;32m   1741\u001b[0m \u001b[43m    \u001b[49m\u001b[43mis_text\u001b[49m\u001b[38;5;241;43m=\u001b[39;49m\u001b[43mis_text\u001b[49m\u001b[43m,\u001b[49m\n\u001b[0;32m   1742\u001b[0m \u001b[43m    \u001b[49m\u001b[43merrors\u001b[49m\u001b[38;5;241;43m=\u001b[39;49m\u001b[38;5;28;43mself\u001b[39;49m\u001b[38;5;241;43m.\u001b[39;49m\u001b[43moptions\u001b[49m\u001b[38;5;241;43m.\u001b[39;49m\u001b[43mget\u001b[49m\u001b[43m(\u001b[49m\u001b[38;5;124;43m\"\u001b[39;49m\u001b[38;5;124;43mencoding_errors\u001b[39;49m\u001b[38;5;124;43m\"\u001b[39;49m\u001b[43m,\u001b[49m\u001b[43m \u001b[49m\u001b[38;5;124;43m\"\u001b[39;49m\u001b[38;5;124;43mstrict\u001b[39;49m\u001b[38;5;124;43m\"\u001b[39;49m\u001b[43m)\u001b[49m\u001b[43m,\u001b[49m\n\u001b[0;32m   1743\u001b[0m \u001b[43m    \u001b[49m\u001b[43mstorage_options\u001b[49m\u001b[38;5;241;43m=\u001b[39;49m\u001b[38;5;28;43mself\u001b[39;49m\u001b[38;5;241;43m.\u001b[39;49m\u001b[43moptions\u001b[49m\u001b[38;5;241;43m.\u001b[39;49m\u001b[43mget\u001b[49m\u001b[43m(\u001b[49m\u001b[38;5;124;43m\"\u001b[39;49m\u001b[38;5;124;43mstorage_options\u001b[39;49m\u001b[38;5;124;43m\"\u001b[39;49m\u001b[43m,\u001b[49m\u001b[43m \u001b[49m\u001b[38;5;28;43;01mNone\u001b[39;49;00m\u001b[43m)\u001b[49m\u001b[43m,\u001b[49m\n\u001b[0;32m   1744\u001b[0m \u001b[43m\u001b[49m\u001b[43m)\u001b[49m\n\u001b[0;32m   1745\u001b[0m \u001b[38;5;28;01massert\u001b[39;00m \u001b[38;5;28mself\u001b[39m\u001b[38;5;241m.\u001b[39mhandles \u001b[38;5;129;01mis\u001b[39;00m \u001b[38;5;129;01mnot\u001b[39;00m \u001b[38;5;28;01mNone\u001b[39;00m\n\u001b[0;32m   1746\u001b[0m f \u001b[38;5;241m=\u001b[39m \u001b[38;5;28mself\u001b[39m\u001b[38;5;241m.\u001b[39mhandles\u001b[38;5;241m.\u001b[39mhandle\n",
      "File \u001b[1;32m~\\AppData\\Local\\anaconda3\\lib\\site-packages\\pandas\\io\\common.py:856\u001b[0m, in \u001b[0;36mget_handle\u001b[1;34m(path_or_buf, mode, encoding, compression, memory_map, is_text, errors, storage_options)\u001b[0m\n\u001b[0;32m    851\u001b[0m \u001b[38;5;28;01melif\u001b[39;00m \u001b[38;5;28misinstance\u001b[39m(handle, \u001b[38;5;28mstr\u001b[39m):\n\u001b[0;32m    852\u001b[0m     \u001b[38;5;66;03m# Check whether the filename is to be opened in binary mode.\u001b[39;00m\n\u001b[0;32m    853\u001b[0m     \u001b[38;5;66;03m# Binary mode does not support 'encoding' and 'newline'.\u001b[39;00m\n\u001b[0;32m    854\u001b[0m     \u001b[38;5;28;01mif\u001b[39;00m ioargs\u001b[38;5;241m.\u001b[39mencoding \u001b[38;5;129;01mand\u001b[39;00m \u001b[38;5;124m\"\u001b[39m\u001b[38;5;124mb\u001b[39m\u001b[38;5;124m\"\u001b[39m \u001b[38;5;129;01mnot\u001b[39;00m \u001b[38;5;129;01min\u001b[39;00m ioargs\u001b[38;5;241m.\u001b[39mmode:\n\u001b[0;32m    855\u001b[0m         \u001b[38;5;66;03m# Encoding\u001b[39;00m\n\u001b[1;32m--> 856\u001b[0m         handle \u001b[38;5;241m=\u001b[39m \u001b[38;5;28;43mopen\u001b[39;49m\u001b[43m(\u001b[49m\n\u001b[0;32m    857\u001b[0m \u001b[43m            \u001b[49m\u001b[43mhandle\u001b[49m\u001b[43m,\u001b[49m\n\u001b[0;32m    858\u001b[0m \u001b[43m            \u001b[49m\u001b[43mioargs\u001b[49m\u001b[38;5;241;43m.\u001b[39;49m\u001b[43mmode\u001b[49m\u001b[43m,\u001b[49m\n\u001b[0;32m    859\u001b[0m \u001b[43m            \u001b[49m\u001b[43mencoding\u001b[49m\u001b[38;5;241;43m=\u001b[39;49m\u001b[43mioargs\u001b[49m\u001b[38;5;241;43m.\u001b[39;49m\u001b[43mencoding\u001b[49m\u001b[43m,\u001b[49m\n\u001b[0;32m    860\u001b[0m \u001b[43m            \u001b[49m\u001b[43merrors\u001b[49m\u001b[38;5;241;43m=\u001b[39;49m\u001b[43merrors\u001b[49m\u001b[43m,\u001b[49m\n\u001b[0;32m    861\u001b[0m \u001b[43m            \u001b[49m\u001b[43mnewline\u001b[49m\u001b[38;5;241;43m=\u001b[39;49m\u001b[38;5;124;43m\"\u001b[39;49m\u001b[38;5;124;43m\"\u001b[39;49m\u001b[43m,\u001b[49m\n\u001b[0;32m    862\u001b[0m \u001b[43m        \u001b[49m\u001b[43m)\u001b[49m\n\u001b[0;32m    863\u001b[0m     \u001b[38;5;28;01melse\u001b[39;00m:\n\u001b[0;32m    864\u001b[0m         \u001b[38;5;66;03m# Binary mode\u001b[39;00m\n\u001b[0;32m    865\u001b[0m         handle \u001b[38;5;241m=\u001b[39m \u001b[38;5;28mopen\u001b[39m(handle, ioargs\u001b[38;5;241m.\u001b[39mmode)\n",
      "\u001b[1;31mFileNotFoundError\u001b[0m: [Errno 2] No such file or directory: 'startup_funding2019.csv'"
     ]
    }
   ],
   "source": [
    "# For CSV, use pandas.read_csv, this helps you to load the CSV file or data and to hande the dataframe\n",
    "data_2018 = pd.read_csv('startup_funding2018.csv')\n",
    "data_2019 = pd.read_csv('startup_funding2019.csv')\n",
    "data_2020 = pd.read_csv('startup_funding2020.csv')\n",
    "data_2021 = pd.read_csv('startup_funding2021.csv')"
   ]
  },
  {
   "cell_type": "markdown",
   "id": "fd7f4dad",
   "metadata": {},
   "source": [
    "<H1 style=\"text-align: center;font-size:30px ; font-family: 'Times New Roman'; color: #00008B\"> DATA CLEANING :</H1>\n",
    "\n",
    "<p style=\"text-align: center;font-size:17px ; font-family: 'Times New Roman';\">\n",
    "    In this section, the following properties of the data loaded will be analysed:\n",
    "</p>  \n",
    "<ul style=\"font-size:17px ; font-family: 'Times New Roman';\">\n",
    "    <li> Data Types </li>\n",
    "    <li> Missing Data </li>\n",
    "    <li> Categorical data values </li>\n",
    "    <li> Continous data values </li>\n",
    "    <li> Duplicated data </li>\n",
    "    <li> Standard rule base check, that is, checks relating to industry standards, example email, dates, websites, currencies etc</li> "
   ]
  },
  {
   "cell_type": "markdown",
   "id": "53c3e2fa",
   "metadata": {},
   "source": [
    "# 2018 Data Set"
   ]
  },
  {
   "cell_type": "code",
   "execution_count": null,
   "id": "add80025",
   "metadata": {},
   "outputs": [],
   "source": [
    "data_2018.info()"
   ]
  },
  {
   "cell_type": "code",
   "execution_count": null,
   "id": "7755fa35",
   "metadata": {},
   "outputs": [],
   "source": [
    "data_2018"
   ]
  },
  {
   "cell_type": "markdown",
   "id": "38dfd8ef",
   "metadata": {},
   "source": [
    "### Renaming Columns to reflect consistency"
   ]
  },
  {
   "cell_type": "code",
   "execution_count": null,
   "id": "5e4cca62",
   "metadata": {},
   "outputs": [],
   "source": [
    "# rename the column headings to be consistent with other data set\n",
    "data_2018.rename(columns={'Company Name':'Company/Brand','Industry':'Sector','Round/Series':'Stage','Amount':'Amount($)','Location':'HeadQuarter','About Company':'What it does'}, inplace=True)"
   ]
  },
  {
   "cell_type": "markdown",
   "id": "d8b2da15",
   "metadata": {},
   "source": [
    "### Cleaning the Sector Column"
   ]
  },
  {
   "cell_type": "code",
   "execution_count": null,
   "id": "653dd64c",
   "metadata": {},
   "outputs": [],
   "source": [
    "# Cleaning the Sector column to get of multiple sectors represented as one. \n",
    "#This is done by first stipping and using slicing to select the first part.\n",
    "data_2018['Sector'] = data_2018['Sector'].str.split(',').str[0] \n",
    "data_2018['Sector'].unique()                            "
   ]
  },
  {
   "cell_type": "code",
   "execution_count": null,
   "id": "5d786695",
   "metadata": {},
   "outputs": [],
   "source": [
    "#rename similar sectors with wrong or different spelling to make it consistent\n",
    "data_2018.replace({'Sector':{'E-Commerce Platforms':'E-Commerce','Autonomous Vehicles':'Automotive','eSports':'Sports',\n",
    "                           'Funding Platform':'Crowdfunding','Crowdsourcing':'Crowdfunding','Last Mile Transportation':'Transportation',\n",
    "                           'Delivery':'Logistics','Delivery Service':'Logistics','Children':'Child Care','Travel':'Transportation','Health Care':'Healthcare',\n",
    "                           'Commercial Real Estate':'Real Estate','Cooking':'Catering','Fantasy Sports':'Sports','Consumer':'Consumer Goods',\n",
    "                           'Consumer Lending':'Consumer Goods','Credit':'Credit Cards','Business Travel':'Transportation','Hospital':'Healthcare',\n",
    "                           'Basketball':'Sports','Alternative Medicine':'Healthcare','Renewable Energy':'Energy','Clean Energy':'Energy','Music':'Music Streaming',\n",
    "                           'Health Diagnostics':'Healthcare','Medical':'Healthcare','Enterprise Software':'ERP','Enterprise Resource Planning (ERP)':'ERP',\n",
    "                           'Audio':'Music Streaming','Air Transportation':'Aerospace','Wellness':'Fitness','Beauty':'Cosmetics','Big Data':'Analytics',\n",
    "                           'Food and Beverage':'Catering','Wealth Management':'Finance','Social Media':'Digital Media','Broadcasting':'Media and Entertainment',\n",
    "                           'News':'Media and Entertainment','Packaging Services':'Logistics','Mobile':'Mobile Phones','Medical Device':'Healthcare',\n",
    "                           'Continuing Education':'Education','Dental':'Healthcare','Android':'Software','Banking':'Financial Services','Training':'Education',\n",
    "                           'Digital Marketing':'Advertising','Marketplace':'Advertising','Consumer Electronics':'Consumer Goods','Rental':'Facilities Support Services',\n",
    "                           'Retail':'Business Development','3D Printing':'Creative Agency','Electric Vehicle':'Automotive','Industrial Automation':'Manufacturing',\n",
    "                           'Battery':'Energy','Reading Apps':'Apps','B2B':'E-Commerce','Communities':'Environmental Consulting','Smart Cities':'Environmental Consulting',\n",
    "                           'Health Insurance':'Insurance','Commercial':'Business Development','Digital Entertainment':'Digital Media',\n",
    "                           'Cloud Infrastructure':'Cloud Computing','Marketing':'Advertising','Events':'Creative Agency','Food Delivery':'Catering',\n",
    "                           'Artificial Intelligence':'AI','Business Intelligence':'ERP','Information Services':'IT','Information Technology':'IT',\n",
    "                           'E-Learning':'Education','Tourism':'Hospitality','Industrial':'Manufacturing','Internet':'IT','Internet of Things':'IoT',\n",
    "                           'Farming':'Agriculture','Food Processing':'Catering','Collaboration':'Human Resources','Computer':'IT','Career Planning':'Human Resources',\n",
    "                           'Wedding':'Customer Service','Online Games':'Gaming','—':'Unknown','Brand Marketing':'Advertising'}}, inplace=True)"
   ]
  },
  {
   "cell_type": "markdown",
   "id": "6ea22ab1",
   "metadata": {},
   "source": [
    "### Cleaning the Stage Column"
   ]
  },
  {
   "cell_type": "code",
   "execution_count": null,
   "id": "74e99161",
   "metadata": {},
   "outputs": [],
   "source": [
    "data_2018['Stage'].unique()"
   ]
  },
  {
   "cell_type": "code",
   "execution_count": null,
   "id": "f75b12b6",
   "metadata": {},
   "outputs": [],
   "source": [
    "data_2018.replace({'Stage':{'Pre-Seed':'Seed','Private Equity':'Seed','Venture - Series Unknown':'Seed',\n",
    "                           'Debt Financing':'Seed','Post-IPO Debt':'Seed','Corporate Round':'Seed','Undisclosed':'Seed',\n",
    "                           'Post-IPO Equity':'Seed','Non-equity Assistance':'Seed','Funding Round':'Seed','Debt':'Seed',\n",
    "                            'Angel':'Seed','Secondary Market':'Seed','Equity':'Seed','Grant':'Seed','Unknown':'Seed'}},inplace=True)\n",
    "data_2018['Stage'].unique()"
   ]
  },
  {
   "cell_type": "code",
   "execution_count": null,
   "id": "b14441e9",
   "metadata": {},
   "outputs": [],
   "source": [
    "data_2018.loc[data_2018['Stage']=='https://docs.google.com/spreadsheets/d/1x9ziNeaz6auNChIHnMI8U6kS7knTr3byy_YBGfQaoUA/edit#gid=1861303593']"
   ]
  },
  {
   "cell_type": "markdown",
   "id": "2d5299ea",
   "metadata": {},
   "source": [
    "Looking at the 'What it does' and 'Company/Brand', it is obvious the sector should be in the FinTech Sector, this needs to be corrected and the stage replaced with 'Unknwon' since there is no futher information to tell the stage"
   ]
  },
  {
   "cell_type": "code",
   "execution_count": null,
   "id": "a4898fe0",
   "metadata": {},
   "outputs": [],
   "source": [
    "# correcting the name of the sector from transportation to FinTech based on the information above.\n",
    "data_2018.iloc[178].replace({'Transportation':'FinTech'},inplace=True) "
   ]
  },
  {
   "cell_type": "code",
   "execution_count": null,
   "id": "6811a86c",
   "metadata": {},
   "outputs": [],
   "source": [
    "# correcting the stage name to Unknown since there is no information to correct it to the right stage. \n",
    "data_2018.iloc[178].replace({'https://docs.google.com/spreadsheets/d/1x9ziNeaz6auNChIHnMI8U6kS7knTr3byy_YBGfQaoUA/edit#gid=1861303593':'Seed'},inplace=True) "
   ]
  },
  {
   "cell_type": "code",
   "execution_count": null,
   "id": "c8f28d57",
   "metadata": {},
   "outputs": [],
   "source": [
    "data_2018['Stage'].unique()"
   ]
  },
  {
   "cell_type": "markdown",
   "id": "3e9b88fa",
   "metadata": {},
   "source": [
    "### Cleaning the Amount($) Column"
   ]
  },
  {
   "cell_type": "markdown",
   "id": "a8201eba",
   "metadata": {},
   "source": [
    "Since some of the currencies are in ₹ (rupees) and others in $ (dollars), the rupees are changed to dollars based on the current exchange rate.\n",
    "\n",
    "Duty is to select all rows where 'Amount' column is in rupees"
   ]
  },
  {
   "cell_type": "code",
   "execution_count": null,
   "id": "15cd2eee",
   "metadata": {},
   "outputs": [],
   "source": [
    "# since some of the currencies are in ₹ (rupees) and others in $ (dollars), the rupees are changed to dollars based on the current exchange rate\n",
    "# select all rows where 'Amount($)' column is in rupees\n",
    "\n",
    "# this should be done before stripping off the currency symbol in order to identify the values and make the conversion \n",
    "rupees_index = data_2018.index[data_2018['Amount($)'].str.contains('₹')]\n",
    "rupees_index "
   ]
  },
  {
   "cell_type": "code",
   "execution_count": null,
   "id": "1baf16bc",
   "metadata": {},
   "outputs": [],
   "source": [
    "# removing or stripping all special characters form the amount column\n",
    "#data_2018[\"Amount\"]=data_2018.Amount.apply(lambda x: str(x).replace(\"-\",np.nan))\n",
    "data_2018['Amount($)']=data_2018['Amount($)'].replace('—', np.nan)    # replacing '-' in the amount column with 0\n",
    "data_2018['Amount($)']=data_2018['Amount($)'].apply(lambda x: str(x).replace(\"₹\" ,\"\"))   # replacing '₹' in the amount column with nothing\n",
    "data_2018['Amount($)']=data_2018['Amount($)'].apply(lambda x: str(x).replace(\"$\" ,\"\"))   # replacing '$' in the amount column with nothing\n",
    "data_2018['Amount($)']=data_2018['Amount($)'].apply(lambda x: str(x).replace(\",\" ,\"\"))   # replacing ',' in the amount column with nothing"
   ]
  },
  {
   "cell_type": "code",
   "execution_count": null,
   "id": "72d827e0",
   "metadata": {},
   "outputs": [],
   "source": [
    "# change the data type from a string to a float\n",
    "data_2018['Amount($)']=pd.to_numeric(data_2018['Amount($)'], errors='coerce')  "
   ]
  },
  {
   "cell_type": "code",
   "execution_count": null,
   "id": "b2522a54",
   "metadata": {},
   "outputs": [],
   "source": [
    "#Convert the rows with rupees to dollars\n",
    "#Multiply the rupees values in the amount column with 0.0146 which is the average 2018 exchange rate from rupees to dollars\n",
    "# the is done on only the records with rupees whose indexes were stored to the rupees_index variable\n",
    "data_2018.loc[rupees_index,['Amount($)']]=data_2018.loc[rupees_index,['Amount($)']].values*0.0146\n",
    "data_2018.loc[rupees_index,[\"Amount($)\"]].head()"
   ]
  },
  {
   "cell_type": "code",
   "execution_count": null,
   "id": "bc42b8cf",
   "metadata": {},
   "outputs": [],
   "source": [
    "# all nan values are to be filled with median on the \n",
    "data_2018['Amount($)']=data_2018['Amount($)'].fillna(data_2018['Amount($)'].median())"
   ]
  },
  {
   "cell_type": "markdown",
   "id": "235d49ca",
   "metadata": {},
   "source": [
    "### Cleaning the HeadQuarter Column"
   ]
  },
  {
   "cell_type": "code",
   "execution_count": null,
   "id": "0c62c868",
   "metadata": {},
   "outputs": [],
   "source": [
    "#Strip the location data to only the city-area.\n",
    "# use ',' as the delimeter to separate them and select preferred choice with slicing\n",
    "data_2018['HeadQuarter']=data_2018['HeadQuarter'].str.split(',').str[0]     \n",
    "data_2018['HeadQuarter'].unique()"
   ]
  },
  {
   "cell_type": "code",
   "execution_count": null,
   "id": "c1a2e8eb",
   "metadata": {},
   "outputs": [],
   "source": [
    "# replacing wrongly spelt names and similar names entered differently\n",
    "data_2018.replace({'HeadQuarter':{'Bangalore':'Bengaluru','Bangalore City':'Bengaluru','New Delhi':'Delhi','India':'Delhi'}}, inplace=True)"
   ]
  },
  {
   "cell_type": "markdown",
   "id": "5a864f4b",
   "metadata": {},
   "source": [
    "### Creating an Artificial `Founded` Column "
   ]
  },
  {
   "cell_type": "markdown",
   "id": "0651b5d9",
   "metadata": {},
   "source": [
    "This column is being created to hold the year in which the startups were founded. \n",
    "This is on the operational assumption that empty values are to be replace with the year in which the data set is located, hence 2018 will be used for all the entries in this data set. "
   ]
  },
  {
   "cell_type": "code",
   "execution_count": null,
   "id": "25962b55",
   "metadata": {},
   "outputs": [],
   "source": [
    "# creating a founded column and assign 2018 as the value for all\n",
    "data_2018['Founded']=2018"
   ]
  },
  {
   "cell_type": "code",
   "execution_count": null,
   "id": "11057fb6",
   "metadata": {},
   "outputs": [],
   "source": [
    "# checking for null values\n",
    "data_2018.isnull().sum()"
   ]
  },
  {
   "cell_type": "code",
   "execution_count": null,
   "id": "ad0291fe",
   "metadata": {},
   "outputs": [],
   "source": [
    "# checking for duplicate entries\n",
    "data_2018.duplicated().value_counts()"
   ]
  },
  {
   "cell_type": "code",
   "execution_count": null,
   "id": "445c0fbb",
   "metadata": {},
   "outputs": [],
   "source": [
    " # remove the duplicate record\n",
    "data_2018=data_2018.drop_duplicates(keep='first')  "
   ]
  },
  {
   "cell_type": "markdown",
   "id": "1e3b0d22",
   "metadata": {},
   "source": [
    "# 2019 Data Set"
   ]
  },
  {
   "cell_type": "code",
   "execution_count": null,
   "id": "93514a4e",
   "metadata": {},
   "outputs": [],
   "source": [
    "data_2019.head()"
   ]
  },
  {
   "cell_type": "code",
   "execution_count": null,
   "id": "d5a39b55",
   "metadata": {},
   "outputs": [],
   "source": [
    "data_2019.info()"
   ]
  },
  {
   "cell_type": "markdown",
   "id": "e9ca2883",
   "metadata": {},
   "source": [
    "### Cleaning the Founded Column"
   ]
  },
  {
   "cell_type": "code",
   "execution_count": null,
   "id": "0a5d71fb",
   "metadata": {},
   "outputs": [],
   "source": [
    "# convert the data type from float to a string\n",
    "data_2019['Founded']=data_2019['Founded'].astype(str)   \n",
    "data_2019['Founded']=data_2019.Founded.str.split('.').str[0]    # removing the decimal points in the year\n",
    "data_2019['Founded'].unique()"
   ]
  },
  {
   "cell_type": "code",
   "execution_count": null,
   "id": "ca3d133e",
   "metadata": {},
   "outputs": [],
   "source": [
    "# changing the data type to numeric\n",
    "data_2019['Founded']=pd.to_numeric(data_2019['Founded'],errors='coerce', downcast='unsigned')"
   ]
  },
  {
   "cell_type": "code",
   "execution_count": null,
   "id": "f3d4ac6b",
   "metadata": {},
   "outputs": [],
   "source": [
    "# all nan values are to be filled with unknown on the \n",
    "data_2019['Founded']=data_2019['Founded'].fillna(2019)"
   ]
  },
  {
   "cell_type": "code",
   "execution_count": null,
   "id": "d2d8ef8f",
   "metadata": {},
   "outputs": [],
   "source": [
    "data_2019['Founded'].unique()"
   ]
  },
  {
   "cell_type": "markdown",
   "id": "c860cd04",
   "metadata": {},
   "source": [
    "### Cleaning the HeadQuarter Column"
   ]
  },
  {
   "cell_type": "code",
   "execution_count": null,
   "id": "74ed8141",
   "metadata": {},
   "outputs": [],
   "source": [
    "data_2019['HeadQuarter'].unique()"
   ]
  },
  {
   "cell_type": "code",
   "execution_count": null,
   "id": "f581e918",
   "metadata": {},
   "outputs": [],
   "source": [
    "# replacing wrongly spelt names and similar names entered differently\n",
    "data_2019.replace({'HeadQuarter':{'Bangalore':'Bengaluru','New Delhi':'Delhi','nan':'Delhi'}}, inplace=True)"
   ]
  },
  {
   "cell_type": "code",
   "execution_count": null,
   "id": "2a9b9b63",
   "metadata": {},
   "outputs": [],
   "source": [
    "# all nan values are to be filled with Delhi on the assuption that this is an India Start Up data set\n",
    "data_2019['HeadQuarter']=data_2019['HeadQuarter'].fillna('Delhi')"
   ]
  },
  {
   "cell_type": "markdown",
   "id": "c3813ee6",
   "metadata": {},
   "source": [
    "### Cleaning the Sector Column"
   ]
  },
  {
   "cell_type": "code",
   "execution_count": null,
   "id": "da048e64",
   "metadata": {},
   "outputs": [],
   "source": [
    "data_2019['Sector'].unique()"
   ]
  },
  {
   "cell_type": "code",
   "execution_count": null,
   "id": "edcbfdc9",
   "metadata": {},
   "outputs": [],
   "source": [
    "#rename similar sectors with wrong or different spelling to make it consistent\n",
    "data_2019.replace({'Sector':{'Ecommerce':'E-Commerce','Edtech':'EdTech','Interior design':'Home Decor','Virtual Banking':'Financial Services',\n",
    "                           'AgriTech':'AgTech','E-commerce & AR':'E-Commerce','Fintech':'FinTech','Infratech':'IT','B2B Supply Chain':'E-Commerce',\n",
    "                           'Marketing & Customer loyalty':'Customer Service','Automobile & Technology':'Automotive','Transport & Rentals':'Transportation',\n",
    "                           'HR tech':'Human Resources','AI & Tech':'AI','E-commerce':'E-Commerce','Travel':'Transportation','Health Care':'Healthcare',\n",
    "                           'Commercial Real Estate':'Real Estate','Cooking':'Catering','Fantasy Sports':'Sports','Consumer':'Consumer Goods',\n",
    "                           'Healthtech':'Healthcare','E-Sports':'Sports','Mutual Funds':'Finance','Legal tech':'Legal','Accomodation':'Real Estate',\n",
    "                           'Consumer Lending':'Consumer Goods','Credit':'Credit Cards','Business Travel':'Transportation','Hospital':'Healthcare',\n",
    "                           'Automobile':'Automotive','Alternative Medicine':'Healthcare','Renewable Energy':'Energy','Clean Energy':'Energy','Music':'Music Streaming',\n",
    "                           'Health Diagnostics':'Healthcare','Medical':'Healthcare','Enterprise Software':'ERP','Enterprise Resource Planning (ERP)':'ERP',\n",
    "                           'Audio':'Music Streaming','Air Transportation':'Aerospace','Yoga & wellness':'Fitness','Beauty':'Cosmetics','Big Data':'Analytics',\n",
    "                           'Food and Beverage':'Catering','Wealth Management':'Finance','Social Media':'Digital Media','Broadcasting':'Media and Entertainment',\n",
    "                           'News':'Media and Entertainment','Packaging Services':'Logistics','Mobile':'Mobile Phones','Medical Device':'Healthcare',\n",
    "                           'Continuing Education':'Education','Dental':'Healthcare','Android':'Software','Banking':'Financial Services','Training':'Education',\n",
    "                           'Digital Marketing':'Advertising','Marketplace':'Advertising','Consumer Electronics':'Consumer Goods','Rental':'Facilities Support Services',\n",
    "                           'Retail':'Business Development','3D Printing':'Creative Agency','Electric Vehicle':'Automotive','Industrial Automation':'Manufacturing',\n",
    "                           'Battery':'Energy','Reading Apps':'Apps','B2B':'E-Commerce','Communities':'Environmental Consulting','Smart Cities':'Environmental Consulting',\n",
    "                           'Health Insurance':'Insurance','Commercial':'Business Development','Digital Entertainment':'Digital Media','Food & tech':'Catering',\n",
    "                           'Cloud Infrastructure':'Cloud Computing','Marketing':'Advertising','Events':'Creative Agency','Food tech':'Catering',\n",
    "                           'Artificial Intelligence':'AI','Business Intelligence':'ERP','Information Services':'IT','Information Technology':'IT',\n",
    "                           'E-Learning':'Education','Tourism':'Hospitality','Industrial':'Manufacturing','Internet':'IT','Internet of Things':'IoT',\n",
    "                           'Jewellery':'Fashion','Food & Nutrition':'Healthcare','Robotics & AI':'AI', 'E-marketplace':'E-Commerce','Foodtech':'Catering',\n",
    "                           'Insurance technology':'Insurance','Pharmaceutical':'Healthcare','Safety tech':'Cybersecurity',\n",
    "                           'Technology':'IT','Farming':'Agriculture','Food Processing':'Catering','Collaboration':'Human Resources','Computer':'IT','Career Planning':'Human Resources',\n",
    "                           'Wedding':'Customer Service','Games':'Gaming'}}, inplace=True)\n",
    "data_2019['Sector'].unique()"
   ]
  },
  {
   "cell_type": "code",
   "execution_count": null,
   "id": "d9f2e454",
   "metadata": {},
   "outputs": [],
   "source": [
    "# all nan values are to be filled with unknown on the \n",
    "data_2019['Sector']=data_2019['Sector'].fillna('Unknown')"
   ]
  },
  {
   "cell_type": "markdown",
   "id": "ade85b20",
   "metadata": {},
   "source": [
    "### Cleaning the Amount($) Column"
   ]
  },
  {
   "cell_type": "code",
   "execution_count": null,
   "id": "09d6e786",
   "metadata": {},
   "outputs": [],
   "source": [
    "# stripping off special characters\n",
    "#data_2019.replace({'Amount($)':{'$':'',',':''}},inplace=True)\n",
    "data_2019[\"Amount($)\"]=data_2019['Amount($)'].apply(lambda x: str(x).replace(\"$\" ,\"\")) \n",
    "data_2019[\"Amount($)\"]=data_2019['Amount($)'].apply(lambda x: str(x).replace(\",\" ,\"\"))\n",
    "data_2019[\"Amount($)\"]=data_2019['Amount($)'].replace(\"Undisclosed\" ,np.nan)"
   ]
  },
  {
   "cell_type": "code",
   "execution_count": null,
   "id": "7e5b9049",
   "metadata": {},
   "outputs": [],
   "source": [
    "# change the data type to a float\n",
    "# The downcast parameter is used to set the data type to float\n",
    "data_2019['Amount($)'] = pd.to_numeric(data_2019['Amount($)'], errors='coerce', downcast='float')                                                            "
   ]
  },
  {
   "cell_type": "code",
   "execution_count": null,
   "id": "30dc65da",
   "metadata": {},
   "outputs": [],
   "source": [
    "# all nan values are to be filled with median on the \n",
    "data_2019['Amount($)']=data_2019['Amount($)'].fillna(data_2019['Amount($)'].median())"
   ]
  },
  {
   "cell_type": "markdown",
   "id": "77a5fcfd",
   "metadata": {},
   "source": [
    "### Cleaning the Stage Column"
   ]
  },
  {
   "cell_type": "code",
   "execution_count": null,
   "id": "45a8897a",
   "metadata": {},
   "outputs": [],
   "source": [
    "data_2019['Stage'].unique()"
   ]
  },
  {
   "cell_type": "code",
   "execution_count": null,
   "id": "f590db78",
   "metadata": {},
   "outputs": [],
   "source": [
    "# replacing wrongly spelt and similar enteries to promote consistency\n",
    "data_2019.replace({'Stage':{'Seed fund':'Seed','Post series A':'Series A',\n",
    "                           'Pre series A':'Series A','Series B+':'Series B','Fresh funding':'Seed',\n",
    "                           'Pre-series A':'Series A','Seed round':'Seed','Seed funding':'Seed','Debt':'Seed',\n",
    "                            'Angel':'Seed','Secondary Market':'Seed','Equity':'Seed','Grant':'Seed'}},inplace=True)\n",
    "data_2019['Stage'].unique()"
   ]
  },
  {
   "cell_type": "code",
   "execution_count": null,
   "id": "56bc9b10",
   "metadata": {},
   "outputs": [],
   "source": [
    "# all nan values are to be filled with unknown on the \n",
    "data_2019['Stage']=data_2019['Stage'].fillna('Seed')"
   ]
  },
  {
   "cell_type": "markdown",
   "id": "5791de78",
   "metadata": {},
   "source": [
    "### Cleaning the Founders Column"
   ]
  },
  {
   "cell_type": "code",
   "execution_count": null,
   "id": "1232b7dd",
   "metadata": {},
   "outputs": [],
   "source": [
    "# all nan values are to be filled with unknown on the \n",
    "data_2019['Founders']=data_2019['Founders'].fillna('Unknown')"
   ]
  },
  {
   "cell_type": "code",
   "execution_count": null,
   "id": "0e8621a4",
   "metadata": {},
   "outputs": [],
   "source": [
    "data_2019.isnull().sum()"
   ]
  },
  {
   "cell_type": "code",
   "execution_count": null,
   "id": "ad105750",
   "metadata": {},
   "outputs": [],
   "source": [
    "# checking for duplicate entries\n",
    "data_2019.duplicated().value_counts()"
   ]
  },
  {
   "cell_type": "markdown",
   "id": "60056039",
   "metadata": {},
   "source": [
    "# 2020 Data Set"
   ]
  },
  {
   "cell_type": "code",
   "execution_count": null,
   "id": "1a5fd04b",
   "metadata": {},
   "outputs": [],
   "source": [
    "data_2020.head()"
   ]
  },
  {
   "cell_type": "code",
   "execution_count": null,
   "id": "b46a0977",
   "metadata": {},
   "outputs": [],
   "source": [
    "data_2020.info()"
   ]
  },
  {
   "cell_type": "markdown",
   "id": "7a836465",
   "metadata": {},
   "source": [
    "### Cleaning the Founded Column"
   ]
  },
  {
   "cell_type": "code",
   "execution_count": null,
   "id": "0615dae1",
   "metadata": {},
   "outputs": [],
   "source": [
    "data_2020['Founded'].unique()"
   ]
  },
  {
   "cell_type": "code",
   "execution_count": null,
   "id": "657884df",
   "metadata": {},
   "outputs": [],
   "source": [
    "# all - values are to be filled with nan \n",
    "data_2020['Founded']=data_2020['Founded'].replace({'-':np.nan},inplace=True)"
   ]
  },
  {
   "cell_type": "code",
   "execution_count": null,
   "id": "d3d2f65a",
   "metadata": {},
   "outputs": [],
   "source": [
    "# changing the data type to numeric\n",
    "data_2020['Founded']=pd.to_numeric(data_2020['Founded'],errors='coerce',downcast='signed')"
   ]
  },
  {
   "cell_type": "code",
   "execution_count": null,
   "id": "aedb804d",
   "metadata": {},
   "outputs": [],
   "source": [
    "# all nan values are to be filled with 2020\n",
    "data_2020['Founded']=data_2020['Founded'].fillna(2020)"
   ]
  },
  {
   "cell_type": "markdown",
   "id": "7d0b7eee",
   "metadata": {},
   "source": [
    "### Cleaning the HeadQuarter Column"
   ]
  },
  {
   "cell_type": "code",
   "execution_count": null,
   "id": "e1315f9e",
   "metadata": {},
   "outputs": [],
   "source": [
    "data_2020['HeadQuarter'].unique()"
   ]
  },
  {
   "cell_type": "code",
   "execution_count": null,
   "id": "ced810f7",
   "metadata": {},
   "outputs": [],
   "source": [
    "#strip and select only the City name, which is the first part and ignore the country \n",
    "data_2020['HeadQuarter']=data_2020['HeadQuarter'].str.split(',').str[0] "
   ]
  },
  {
   "cell_type": "code",
   "execution_count": null,
   "id": "6823c6d7",
   "metadata": {},
   "outputs": [],
   "source": [
    "# replacing wrongly spelt names and similar names entered differently\n",
    "data_2020.replace({'HeadQuarter':{'Bangalore':'Bengaluru','New Delhi':'Delhi','nan':'Delhi','Bangaldesh':'Bangladesh',\n",
    "                                  'Banglore':'Bengaluru'}}, inplace=True)"
   ]
  },
  {
   "cell_type": "code",
   "execution_count": null,
   "id": "d285b6b4",
   "metadata": {},
   "outputs": [],
   "source": [
    "# all nan values are to be filled with Delhi on the assuption that this is an India Start Up data set\n",
    "data_2020['HeadQuarter']=data_2020['HeadQuarter'].fillna('Delhi')"
   ]
  },
  {
   "cell_type": "markdown",
   "id": "ebf8b825",
   "metadata": {},
   "source": [
    "### Cleaning the Sector Column"
   ]
  },
  {
   "cell_type": "code",
   "execution_count": null,
   "id": "0a2512bf",
   "metadata": {},
   "outputs": [],
   "source": [
    "data_2020['Sector'].unique()"
   ]
  },
  {
   "cell_type": "code",
   "execution_count": null,
   "id": "02211110",
   "metadata": {},
   "outputs": [],
   "source": [
    "#rename similar sectors with wrong or different spelling to make it consistent\n",
    "data_2020.replace({'Sector':{'Ecommerce':'E-Commerce','Edtech':'EdTech','Interior design':'Home Decor','Virtual Banking':'Financial Services',\n",
    "                           'AgriTech':'AgTech','E-commerce & AR':'E-Commerce','Fintech':'FinTech','Infratech':'IT','B2B Supply Chain':'E-Commerce',\n",
    "                           'Marketing & Customer loyalty':'Customer Service','Automobile & Technology':'Automotive','Transport & Rentals':'Transportation',\n",
    "                           'HR tech':'Human Resources','AI & Tech':'AI','E-commerce':'E-Commerce','Travel':'Transportation','Health Care':'Healthcare',\n",
    "                           'Commercial Real Estate':'Real Estate','Cooking':'Catering','Fantasy Sports':'Sports','Consumer':'Consumer Goods',\n",
    "                           'Healthtech':'Healthcare','E-Sports':'Sports','Mutual Funds':'Finance','Legal tech':'Legal','Accomodation':'Real Estate',\n",
    "                           'Consumer Lending':'Consumer Goods','Credit':'Credit Cards','Business Travel':'Transportation','Hospital':'Healthcare',\n",
    "                           'Automobile':'Automotive','Alternative Medicine':'Healthcare','Renewable Energy':'Energy','Clean Energy':'Energy','Music':'Music Streaming',\n",
    "                           'Health Diagnostics':'Healthcare','Medical':'Healthcare','Enterprise Software':'ERP','Enterprise Resource Planning (ERP)':'ERP',\n",
    "                           'Audio':'Music Streaming','Air Transportation':'Aerospace','Yoga & wellness':'Fitness','Beauty':'Cosmetics','Big Data':'Analytics',\n",
    "                           'Food and Beverage':'Catering','Wealth Management':'Finance','Social Media':'Digital Media','Broadcasting':'Media and Entertainment',\n",
    "                           'News':'Media and Entertainment','Packaging Services':'Logistics','Mobile':'Mobile Phones','Medical Device':'Healthcare',\n",
    "                           'Continuing Education':'Education','Dental':'Healthcare','Android':'Software','Banking':'Financial Services','Training':'Education',\n",
    "                           'Digital Marketing':'Advertising','Marketplace':'Advertising','Consumer Electronics':'Consumer Goods','Rental':'Facilities Support Services',\n",
    "                           'Retail':'Business Development','3D Printing':'Creative Agency','Electric Vehicle':'Automotive','Industrial Automation':'Manufacturing',\n",
    "                           'Battery':'Energy','Reading Apps':'Apps','B2B':'E-Commerce','Communities':'Environmental Consulting','Smart Cities':'Environmental Consulting',\n",
    "                           'Health Insurance':'Insurance','Commercial':'Business Development','Digital Entertainment':'Digital Media','Food & tech':'Catering',\n",
    "                           'Cloud Infrastructure':'Cloud Computing','Marketing':'Advertising','Events':'Creative Agency','Food tech':'Catering',\n",
    "                           'Artificial Intelligence':'AI','Business Intelligence':'ERP','Information Services':'IT','Information Technology':'IT',\n",
    "                           'E-Learning':'Education','Tourism':'Hospitality','Industrial':'Manufacturing','Internet':'IT','Internet of Things':'IoT',\n",
    "                           'Jewellery':'Fashion','Food & Nutrition':'Healthcare','Robotics & AI':'AI', 'E-marketplace':'E-Commerce','Foodtech':'Catering',\n",
    "                           'Insurance technology':'Insurance','Pharmaceutical':'Healthcare','Safety tech':'Cybersecurity',\"Fashion startup\":'Fashion',\n",
    "                             'Deisgning':'Creative Agency','Pharmacy':'Healthcare','Consultancy':'Creative Agency','Tech hub':'IT','E-connect':'Digital Media',\n",
    "                             'B2B Agritech':'AgTech','Food diet':'Healthcare','Preschool Daycare':'Child Care','AI Robotics':'AI','SaaS/Edtech':'Saas',\n",
    "                             'Transport & Rentals':'Transportation','Transport Automation':'Transportation','Neo-banking':'Financial Services',\n",
    "                             'Ad-tech':'Advertising','E-mobility':'Mobile Payment','E tailor':'E-Commerce','Estore':'E-Commerce','Housing & Rentals':'Real Estate',\n",
    "                             'AI & Deep learning':'AI','Sales & Services':'Business Development','VR & SaaS':'Saas','Hygiene':'CleanTech','Cleantech':'CleanTech',\n",
    "                             'Visual Media':'Media and Entertainment','Content Marktplace':'Advertising','Machine Learning':'AI','AI & Media':'AI',\n",
    "                             'E-tail':'E-Commerce','Automotive and Rentals':'Automotive','ravel tech':'Transportation','AI & Data science':'AI',\n",
    "                             'Finance company':'Finance','Tech company':'IT','Solar Monitoring Company':'Energy','Video sharing platform':'Media and Entertainment',\n",
    "                             'Gaming startup':'Gaming','Video streaming platform':'Media and Entertainment','Consumer appliances':'Consumer Goods',\n",
    "                             'Blockchain startup':'Blockchain','Conversational AI platform':'AI','SaaS platform':'Saas','AI platform':'AI',\n",
    "                             'Escrow':'Legal','Networking platform':'IT','Spacetech':'Aerospace','Trading platform':'E-Commerce','AI Company':'AI',\n",
    "                             'Photonics startup':'Media and Entertainment','Entertainment':'Media and Entertainment','Scanning app':'Apps',\n",
    "                             'Skincare startup':'Cosmetics','Food and Beverages':'Catering','FoodTech':'Catering','Biotechnology company':'Environmental Consulting',\n",
    "                             'Proptech':'Facilities Support Services','Fitness startup':'Fitness','PaaS startup':'Saas','Beverages':'Catering',\n",
    "                             'Automobiles':'Automotive','Deeptech':'AI','EV startup':'Environmental Consulting','AR/VR startup':'IT','Recruitment startup':'Human Resources',\n",
    "                             'Tourism & EV':'Hospitality','QSR startup':'Customer Service','Video platform':'Media and Entertainment',\n",
    "                             'Fusion beverages':'Catering','Job portal':'Human Resources','Dairy startup':'Catering','Content management':'Creative Agency',\n",
    "                             'Work fulfillment':'Human Resources','HR Tech':'Human Resources','Software Company':'Software','Soil-Tech':'Agriculture',\n",
    "                             'Travel & SaaS':'Transportation','Hygiene management':'CleanTech','Food & Bevarages':'Catering','Food Delivery':'Catering',\n",
    "                             'Virtual auditing startup':'FinTech','HealthTech':'Healthcare','AI startup':'AI','Tech Startup':'IT','Medtech':'Healthcare',\n",
    "                             'Tyre management':'Automotive','Cloud company':'Cloud Computing','Software company':'Software','Venture capitalist':'Finance',\n",
    "                             'Renewable player':'Energy','IoT startup':'IoT','SaaS startup':'Saas','Aero company':'Aerospace','Marketing company':'Advertising',\n",
    "                             'Retail startup':'Business Development','Co-working Startup':'Human Resources','—':'Unknown','Brand Marketing':'Advertising',\n",
    "                             'Fertility tech':'Healthcare','Luxury car startup':'Automotive','FM':'Media and Entertainment','Food':'Catering',\n",
    "                             'Nutrition sector':'Healthcare','Tech platform':'IT','Video':'Media and Entertainment','Retail Tech':'Business Development',\n",
    "                             'HeathTech':'Healthcare','Sles and marketing':'Advertising','LegalTech':'Legal','Car Service':'Automotive',\n",
    "                             'Bike marketplace':'Automotive','Agri tech':'AgTech','Reatil startup':'Business Development','AR platform':'IT',\n",
    "                             'Content marketplace':'Creative Agency','Interior Design':'Home Decor','Home Design':'Home Decor','InsureTech':'Insurance',\n",
    "                             'Rental space':'Facilities Support Services','Ayurveda tech':'IT','Packaging solution startup':'Logistics',\n",
    "                             'Sanitation solutions':'CleanTech','HealthCare':'Healthcare','AI Startup':'AI','Solar solution':'Energy','Tech':'IT',\n",
    "                             'Jewellery startup':'Fashion','Multinational conglomerate company':'Business Development','Deeptech startup':'AI',\n",
    "                             'Social Network':'Digital Media','Publication':'Creative Agency','Venture capital':'Finance','Entreprenurship':'Business Development',\n",
    "                             'E-market':'E-Commerce','Media & Networking':'Media and Entertainment','Automation tech':'Automotive','eMobility':'Mobile Payment',\n",
    "                             'Food devlivery':'Catering','Warehouse':'Facilities Support Services','Online financial service':'FinTech',\n",
    "                             'Eyeglasses':'Healthcare','Battery design':'Energy','Online credit management startup':'FinTech','Beverage':'Catering',\n",
    "                             'TravelTech':'Transportation','Startup laboratory':'Business Development','Personal care startup':'Fitness',\n",
    "                             'Customer service company':'Customer Service','SaaS\\xa0\\xa0startup':'Saas','Marketing startup':'Advertising',\n",
    "                             'Service industry':'Human Resources','Social media':'Digital Media','R startup':'IT','HR Tech startup':'Human Resources',\n",
    "                             'AR startup':'IT','Automotive Startup':'Automotive','Food Startup':'Catering','EdTech Startup':'Education',\n",
    "                             'Car Trade':'Automotive','EdtTech':'Education','AI Platform':'AI','Automation':'Automotive','Solar SaaS':'Saas',\n",
    "                             'WL & RAC protection':'Environmental Consulting','Social commerce':'E-Commerce','Home interior services':'Home Decor',\n",
    "                             'Agritech startup':'AgTech','API platform':'Software','Deep Tech':'AI','Electricity':'Energy','Automotive company':'Automotive',\n",
    "                             'FMCG':'Legal','Insurance Tech':'Insurance','Video personalization':'Media and Entertainment','Biomaterial startup':'Manufacturing',\n",
    "                             'Health':'Healthcare','Craft Beer':'Creative Agency','Investment':'Finance','Linguistic Spiritual':'Education',\n",
    "                             'Battery manufacturer':'Energy','Nano Distribution Network':'IT','AI health':'AI','Dating app':'Dating',\n",
    "                             'Media':'Media and Entertainment','Healthcare/Edtech':'Healthcare','Social Commerce':'E-Commerce','Agritech/Commerce':'AgTech',\n",
    "                             'Mobility tech':'Mobile Phones','Social e-commerce':'E-Commerce','Food & Logistics':'Logistics','SpaceTech':'Aerospace',\n",
    "                             'Nutrition Tech':'Healthcare','HR':'Human Resources','nan':'Unknown','Agritech':'AgTech','AR/VR':'IT',\n",
    "                             'Appliance':'Consumer Goods','Mental Health':'Healthcare','Solar Solution':'Energy','Saas':'SaaS','B2B marketplace':'E-Commerce',\n",
    "                             'Fashion Tech':'Fashion','Nutrition tech':'Healthcare','Health & Wellness':'Fitness','Cloud Kitchen':'Cloud Computing',\n",
    "                             'IoT/Automobile':'IoT','Eye Wear':'Healthcare','Digital tech':'IT','Data Intelligence':'ERP','Co-living':'Human Resources',\n",
    "                             'Food & Beverages':'Catering','Defense tech':'Cybersecurity','Construction tech':'Construction','Nutrition':'Healthcare',\n",
    "                             'Coworking':'Human Resources','Micro-mobiity':'Mobile Phones','Auto-tech':'Automotive','Robotics':'AI','Logitech':'IT',\n",
    "                             'Med Tech':'Healthcare','Life sciences':'Healthcare','Retail Aggregator':'Business Development','Deep Tech AI':'AI',\n",
    "                             'Biotech':'Environmental Consulting','HrTech':'Human Resources','AI & Debt':'AI','Transport':'Transportation',\n",
    "                             'Co-working':'Human Resources','Insurtech':'Insurance','Automotive tech':'Automotive','EV':'Environmental Consulting',\n",
    "                             'Supply chain, Agritech':'Logistics','Pharma':'Healthcare','Foodtech & Logistics':'Logistics','Housing':'Real Estate',\n",
    "                             'Data Analytics':'ERP','Investment Tech':'Finance','Biopharma':'Healthcare','Dairy':'Catering','Beauty & wellness':'Fitness',\n",
    "                             'Media Tech':'Media and Entertainment','E store':'E-Commerce','Data Science':'ERP','Travel tech':'Transportation',\n",
    "                             'Techonology':'IT','Taxation':'Accounting','Automobile Technology':'Automotive','Food Industry':'Catering','Financial Services':'Financial Services',\n",
    "                             'Interior & decor':'Home Decor','Health and Fitness':'Fitness','Location Analytics':'ERP','Mobility/Transport':'Transportation',\n",
    "                           'Technology':'IT','Farming':'Agriculture','Food Processing':'Catering','Collaboration':'Human Resources','Computer':'IT','Career Planning':'Human Resources',\n",
    "                           'Wedding':'Customer Service','Games':'Gaming'}}, inplace=True)"
   ]
  },
  {
   "cell_type": "code",
   "execution_count": null,
   "id": "98001872",
   "metadata": {},
   "outputs": [],
   "source": [
    "data_2020['Sector'].unique()"
   ]
  },
  {
   "cell_type": "code",
   "execution_count": null,
   "id": "93d65d5f",
   "metadata": {},
   "outputs": [],
   "source": [
    "# all nan values are to be filled with Unknown\n",
    "data_2020['Sector']=data_2020['Sector'].fillna('Unknown')"
   ]
  },
  {
   "cell_type": "markdown",
   "id": "291176f9",
   "metadata": {},
   "source": [
    "### Cleaning the Amount($) Column"
   ]
  },
  {
   "cell_type": "code",
   "execution_count": null,
   "id": "88cab49e",
   "metadata": {},
   "outputs": [],
   "source": [
    "#First change the data type to a string to work on the special characters\n",
    "data_2020['Amount($)']=data_2020['Amount($)'].astype(str) "
   ]
  },
  {
   "cell_type": "code",
   "execution_count": null,
   "id": "4c6e20f9",
   "metadata": {},
   "outputs": [],
   "source": [
    "# retrieveing records with Undisclosed in the Amount($) column\n",
    "data_2020.loc[data_2020['Amount($)']=='Undiclsosed']\n",
    "#und_1=data_2020['Amount($)']=='Undiclsosed'\n",
    "#und_2=data_2020['Amount($)']=='Undislosed'\n",
    "#und_3=data_2020['Amount($)']=='Undisclosed'"
   ]
  },
  {
   "cell_type": "code",
   "execution_count": null,
   "id": "d917d22f",
   "metadata": {},
   "outputs": [],
   "source": [
    "# correcting the name of the Amount($) from Undiclsosed to 0 based on the information above.\n",
    "data_2020.iloc[665].replace({'Undiclsosed':np.nan},inplace=True) "
   ]
  },
  {
   "cell_type": "code",
   "execution_count": null,
   "id": "0a07f1ae",
   "metadata": {},
   "outputs": [],
   "source": [
    "# retrieveing records with Undislosed in the Amount($) column\n",
    "data_2020.loc[data_2020['Amount($)']=='Undislosed']"
   ]
  },
  {
   "cell_type": "code",
   "execution_count": null,
   "id": "97b4c090",
   "metadata": {},
   "outputs": [],
   "source": [
    "# correcting the name of the Amount($) from Undislosed to 0 based on the information above.\n",
    "data_2020.iloc[665].replace({'Undislosed':np.nan},inplace=True) "
   ]
  },
  {
   "cell_type": "code",
   "execution_count": null,
   "id": "0a39f5e5",
   "metadata": {},
   "outputs": [],
   "source": [
    "# retrieveing records with Undisclosed in the Amount($) column\n",
    "data_2020.loc[data_2020['Amount($)']=='Undisclosed']"
   ]
  },
  {
   "cell_type": "code",
   "execution_count": null,
   "id": "9eea51e1",
   "metadata": {},
   "outputs": [],
   "source": [
    "# replacing all Undisclosed in the Amount($) column with 0\n",
    "data_2020.loc[data_2020['Amount($)']=='Undisclosed',['Amount($)']]=[0]"
   ]
  },
  {
   "cell_type": "code",
   "execution_count": null,
   "id": "bf5af671",
   "metadata": {},
   "outputs": [],
   "source": [
    "# removing all special characters in the colum\n",
    "data_2020[\"Amount($)\"]=data_2020['Amount($)'].apply(lambda x: str(x).replace(\"$\" ,\"\")) \n",
    "data_2020[\"Amount($)\"]=data_2020['Amount($)'].apply(lambda x: str(x).replace(\",\" ,\"\"))"
   ]
  },
  {
   "cell_type": "code",
   "execution_count": null,
   "id": "16353374",
   "metadata": {},
   "outputs": [],
   "source": [
    "# change the data type to a float\n",
    "# The downcast parameter is used to set the data type to float\n",
    "data_2020['Amount($)'] = pd.to_numeric(data_2020['Amount($)'], errors='coerce', downcast='float') "
   ]
  },
  {
   "cell_type": "code",
   "execution_count": null,
   "id": "218db0b0",
   "metadata": {},
   "outputs": [],
   "source": [
    "# Replacing nan values with median\n",
    "data_2020['Amount($)']=data_2020['Amount($)'].fillna(data_2020['Amount($)'].median())"
   ]
  },
  {
   "cell_type": "markdown",
   "id": "dc731cdf",
   "metadata": {},
   "source": [
    "### Cleaning the Stage Column"
   ]
  },
  {
   "cell_type": "code",
   "execution_count": null,
   "id": "e6144288",
   "metadata": {},
   "outputs": [],
   "source": [
    "data_2020['Stage'].unique()"
   ]
  },
  {
   "cell_type": "code",
   "execution_count": null,
   "id": "1cb25633",
   "metadata": {},
   "outputs": [],
   "source": [
    "data_2020.replace({'Stage':{'Pre-Seed':'Seed','Pre-series A':'Series A','Pre-series':'Seed','Pre-series C':'Series C',\n",
    "                            'Pre-Series B':'Series B','Series A-1':'Series A','Seed Funding':'Seed','Seed round':'Seed',\n",
    "                            'Pre-seed Round':'Seed','Pre seed Round':'Seed','Seed Round & Series A':'Series A',\n",
    "                            'Pre Series A':'Series A','Angel Round':'Seed','Pre series A1':'Series A','Series E2':'Series E',\n",
    "                            'Pre series A':'Series A','Seed Round':'Seed','Bridge Round':'Seed','Bridge':'Seed',\n",
    "                            'Edge':'Seed','Pre seed round':'Seed','Pre series B':'Series B','Pre series C':'Series C',\n",
    "                            'Pre series A1':'Series A','Series D1':'Series D','Mid series':'Seed','Series C, D':'Series C',\n",
    "                           'Pre-series B':'Series B','Series B2':'Series B','Pre- series A':'Series A',\n",
    "                           'PPre-seed':'Seed','Seed funding':'Seed','Seed A':'Series A','Pre-seed':'Seed','Debt':'Seed','Debt':'Seed',\n",
    "                            'Angel':'Seed','Secondary Market':'Seed','Equity':'Seed','Grant':'Seed',\n",
    "                            'Seed Investment':'Seed'}},inplace=True)\n",
    "data_2020['Stage'].unique()"
   ]
  },
  {
   "cell_type": "code",
   "execution_count": null,
   "id": "ca6e44a5",
   "metadata": {},
   "outputs": [],
   "source": [
    "# replacing all nan with Unknown\n",
    "data_2020['Stage']=data_2020['Stage'].fillna('Seed')"
   ]
  },
  {
   "cell_type": "markdown",
   "id": "7f42d27c",
   "metadata": {},
   "source": [
    "### Cleaning the `Founders` Column"
   ]
  },
  {
   "cell_type": "code",
   "execution_count": null,
   "id": "383d78f5",
   "metadata": {},
   "outputs": [],
   "source": [
    "# all nan values are to be filled with unknown on the \n",
    "data_2020['Founders']=data_2020['Founders'].fillna('Seed')"
   ]
  },
  {
   "cell_type": "markdown",
   "id": "df4c52b0",
   "metadata": {},
   "source": [
    "### Cleaning the `Investor` Column"
   ]
  },
  {
   "cell_type": "code",
   "execution_count": null,
   "id": "3093b832",
   "metadata": {},
   "outputs": [],
   "source": [
    "# all nan values are to be filled with unknown on the \n",
    "data_2020['Investor']=data_2020['Investor'].fillna('Unknown')"
   ]
  },
  {
   "cell_type": "code",
   "execution_count": null,
   "id": "83aac754",
   "metadata": {},
   "outputs": [],
   "source": [
    "# checking for duplicate entries\n",
    "data_2020.duplicated().value_counts()"
   ]
  },
  {
   "cell_type": "code",
   "execution_count": null,
   "id": "1c0b7b3a",
   "metadata": {},
   "outputs": [],
   "source": [
    "# remove the duplicate record\n",
    "data_2020=data_2020.drop_duplicates(keep='first')  "
   ]
  },
  {
   "cell_type": "code",
   "execution_count": null,
   "id": "b7e1724d",
   "metadata": {},
   "outputs": [],
   "source": [
    "data_2020.isnull().sum()"
   ]
  },
  {
   "cell_type": "markdown",
   "id": "2362e335",
   "metadata": {},
   "source": [
    "# 2021 Data Set"
   ]
  },
  {
   "cell_type": "code",
   "execution_count": null,
   "id": "9383f77b",
   "metadata": {},
   "outputs": [],
   "source": [
    "data_2021.head()"
   ]
  },
  {
   "cell_type": "code",
   "execution_count": null,
   "id": "39ecd139",
   "metadata": {},
   "outputs": [],
   "source": [
    "data_2021.info()"
   ]
  },
  {
   "cell_type": "markdown",
   "id": "25461597",
   "metadata": {},
   "source": [
    "### Cleaning the Founded Column"
   ]
  },
  {
   "cell_type": "code",
   "execution_count": null,
   "id": "879ad300",
   "metadata": {},
   "outputs": [],
   "source": [
    "data_2021['Founded'].unique()"
   ]
  },
  {
   "cell_type": "code",
   "execution_count": null,
   "id": "ba4e6307",
   "metadata": {},
   "outputs": [],
   "source": [
    "# convert the data type from float to a string\n",
    "data_2021['Founded']=data_2021['Founded'].astype(str) \n",
    "\n",
    "# removing the decimal points in the year, slicing is used to pick the whole number only\n",
    "data_2021['Founded']=data_2021.Founded.str.split('.').str[0]"
   ]
  },
  {
   "cell_type": "code",
   "execution_count": null,
   "id": "c8b7dbcc",
   "metadata": {},
   "outputs": [],
   "source": [
    "# changing the data type to numeric\n",
    "data_2021['Founded']=pd.to_numeric(data_2021['Founded'],errors='coerce',downcast='unsigned')"
   ]
  },
  {
   "cell_type": "code",
   "execution_count": null,
   "id": "5172740c",
   "metadata": {},
   "outputs": [],
   "source": [
    "# replacing nan with 2021 since it is a 2021 data set\n",
    "data_2021['Founded']=data_2021['Founded'].fillna(2021)"
   ]
  },
  {
   "cell_type": "code",
   "execution_count": null,
   "id": "37b2e87a",
   "metadata": {},
   "outputs": [],
   "source": [
    "data_2021['Founded'].unique()"
   ]
  },
  {
   "cell_type": "markdown",
   "id": "04ccebb4",
   "metadata": {},
   "source": [
    "### Cleaning the HeadQuarter Column"
   ]
  },
  {
   "cell_type": "code",
   "execution_count": null,
   "id": "2271c34d",
   "metadata": {},
   "outputs": [],
   "source": [
    "data_2021['HeadQuarter'].unique()"
   ]
  },
  {
   "cell_type": "code",
   "execution_count": null,
   "id": "2f5b99ed",
   "metadata": {},
   "outputs": [],
   "source": [
    "# checking for the record with Information Technology & Services at the headquater column\n",
    "data_2021.loc[data_2021['HeadQuarter']=='Information Technology & Services']"
   ]
  },
  {
   "cell_type": "markdown",
   "id": "87924bc4",
   "metadata": {},
   "source": [
    "It is realized that the values at the Sector column and the HeadQuarter column has been interchanged. This is corrected in the cell below."
   ]
  },
  {
   "cell_type": "code",
   "execution_count": null,
   "id": "0af4f15b",
   "metadata": {},
   "outputs": [],
   "source": [
    "# correcting the wrong placement of the HeadQuarter and Sector values\n",
    "data_2021.loc[data_2021['Company/Brand']=='Peak',['HeadQuarter','Sector']]=['Manchester','IT']"
   ]
  },
  {
   "cell_type": "code",
   "execution_count": null,
   "id": "fcfd2e38",
   "metadata": {},
   "outputs": [],
   "source": [
    "# checking for the record with Online Media\\t#REF! at the headquater column\n",
    "data_2021.loc[data_2021['HeadQuarter']=='Online Media\\t#REF!']"
   ]
  },
  {
   "cell_type": "markdown",
   "id": "d3982723",
   "metadata": {},
   "source": [
    "The correction of the transposition is done in the cell below"
   ]
  },
  {
   "cell_type": "code",
   "execution_count": null,
   "id": "faab23e7",
   "metadata": {},
   "outputs": [],
   "source": [
    "# correcting the wrong placement of the HeadQuarter and Sector values\n",
    "data_2021.loc[data_2021['Company/Brand']=='Sochcast',['HeadQuarter','Sector','What it does']]=['Mountain View','Media and Entertainment','Sochcast is an Audio experiences company that give the listener and creators an Immersive Audio experience']"
   ]
  },
  {
   "cell_type": "code",
   "execution_count": null,
   "id": "f5aaf2ac",
   "metadata": {},
   "outputs": [],
   "source": [
    "# checking for the record with Gurugram\\t#REF! at the headquater column\n",
    "data_2021.loc[data_2021['HeadQuarter']=='Gurugram\\t#REF!']"
   ]
  },
  {
   "cell_type": "markdown",
   "id": "5723c1b6",
   "metadata": {},
   "source": [
    "The correction together with the sector which has now been identified is done in the code below"
   ]
  },
  {
   "cell_type": "code",
   "execution_count": null,
   "id": "99097375",
   "metadata": {},
   "outputs": [],
   "source": [
    "# correcting the wrong placement of the HeadQuarter and Sector values\n",
    "data_2021.loc[data_2021['Company/Brand']=='MoEVing',['HeadQuarter','Sector']]=['Gurugram','Automotive']"
   ]
  },
  {
   "cell_type": "code",
   "execution_count": null,
   "id": "c30ba766",
   "metadata": {},
   "outputs": [],
   "source": [
    "# checking for the record with Food & Beverages at the headquater column\n",
    "data_2021.loc[data_2021['HeadQuarter']=='Food & Beverages']"
   ]
  },
  {
   "cell_type": "markdown",
   "id": "ee06840c",
   "metadata": {},
   "source": [
    "This investigation also revealed a duplicated entry. The second entry with index 255 will be dropped and then the correction will be done"
   ]
  },
  {
   "cell_type": "code",
   "execution_count": null,
   "id": "4acc35a1",
   "metadata": {},
   "outputs": [],
   "source": [
    "# dropping the duplicate with its index\n",
    "data_2021.drop(index=[255],axis=0, inplace=True)\n",
    "\n",
    "# correcting the wrong placement of the HeadQuarter and Sector values\n",
    "data_2021.loc[data_2021['Company/Brand']=='MasterChow',['HeadQuarter','Sector']]=['Hauz Khas', 'Catering']"
   ]
  },
  {
   "cell_type": "code",
   "execution_count": null,
   "id": "1b93fd99",
   "metadata": {},
   "outputs": [],
   "source": [
    "# checking for the record with Computer Games at the headquater column\n",
    "data_2021.loc[data_2021['HeadQuarter']=='Computer Games']"
   ]
  },
  {
   "cell_type": "markdown",
   "id": "3e863f7d",
   "metadata": {},
   "source": [
    "This investigation also revealed a duplicated entry. The second entry with index 111 will be dropped and then the correction will be done. \n",
    "\n",
    "It also revealed that the amount and stage column has been interchanged. "
   ]
  },
  {
   "cell_type": "code",
   "execution_count": null,
   "id": "be50101d",
   "metadata": {},
   "outputs": [],
   "source": [
    "# dropping the duplicate with its index\n",
    "data_2021.drop(index=[111],axis=0, inplace=True)\n",
    "\n",
    "# correcting the wrong placement of the HeadQuarter and Sector values\n",
    "data_2021.loc[data_2021['Company/Brand']=='FanPlay',['HeadQuarter','Sector','Stage','Amount($)']]=['New York', 'Gaming','Unknown',1200000]"
   ]
  },
  {
   "cell_type": "code",
   "execution_count": null,
   "id": "07395920",
   "metadata": {},
   "outputs": [],
   "source": [
    "# checking for the record with Pharmaceuticals\\t#REF! at the headquater column\n",
    "data_2021.loc[data_2021['HeadQuarter']=='Pharmaceuticals\\t#REF!']"
   ]
  },
  {
   "cell_type": "markdown",
   "id": "a79c94e1",
   "metadata": {},
   "source": [
    "This investigation also revealed a duplicated entry. The second entry with index 256 will be dropped and then the correction will be done"
   ]
  },
  {
   "cell_type": "code",
   "execution_count": null,
   "id": "90f9d84f",
   "metadata": {},
   "outputs": [],
   "source": [
    "# dropping the duplicate with its index\n",
    "data_2021.drop(index=[256],axis=0, inplace=True)\n",
    "\n",
    "# correcting the wrong placement of the HeadQuarter and Sector values\n",
    "data_2021.loc[data_2021['Company/Brand']=='Fullife Healthcare',['HeadQuarter','Sector']]=['Unknown', 'Healthcare']"
   ]
  },
  {
   "cell_type": "code",
   "execution_count": null,
   "id": "a018e106",
   "metadata": {},
   "outputs": [],
   "source": [
    "data_2021.replace({'HeadQuarter':{'New Delhi':'Delhi','Small Towns, Andhra Pradesh':'Andhra Pradesh',\n",
    "                                 'Thiruvananthapuram':'Trivandrum','Mountain View, CA':'Mountain View',\n",
    "                                 'Mangalore':'Bengaluru','Bangalore':'Bengaluru'}}, inplace=True)"
   ]
  },
  {
   "cell_type": "code",
   "execution_count": null,
   "id": "1c877156",
   "metadata": {},
   "outputs": [],
   "source": [
    "# replacing nan with Delhi on the assumption that i is an India startup data set\n",
    "data_2021['HeadQuarter']=data_2021['HeadQuarter'].fillna('Delhi')"
   ]
  },
  {
   "cell_type": "markdown",
   "id": "1528a383",
   "metadata": {},
   "source": [
    "### Cleaning the Sector Column"
   ]
  },
  {
   "cell_type": "code",
   "execution_count": null,
   "id": "fb43a55d",
   "metadata": {},
   "outputs": [],
   "source": [
    "data_2021['Sector'].unique()"
   ]
  },
  {
   "cell_type": "code",
   "execution_count": null,
   "id": "a06f3419",
   "metadata": {},
   "outputs": [],
   "source": [
    "#rename similar sectors with wrong or different spelling to make it consistent\n",
    "data_2021.replace({'Sector':{'Ecommerce':'E-Commerce','Edtech':'EdTech','Interior design':'Home Decor','Virtual Banking':'Financial Services',\n",
    "                           'AgriTech':'AgTech','E-commerce & AR':'E-Commerce','Fintech':'FinTech','Infratech':'IT','B2B Supply Chain':'E-Commerce',\n",
    "                           'Marketing & Customer loyalty':'Customer Service','Automobile & Technology':'Automotive','Transport & Rentals':'Transportation',\n",
    "                           'HR tech':'Human Resources','AI & Tech':'AI','E-commerce':'E-Commerce','Travel':'Transportation','Health Care':'Healthcare',\n",
    "                           'Commercial Real Estate':'Real Estate','Cooking':'Catering','Fantasy Sports':'Sports','Consumer':'Consumer Goods',\n",
    "                           'Healthtech':'Healthcare','E-Sports':'Sports','Mutual Funds':'Finance','Legal tech':'Legal','Accomodation':'Real Estate',\n",
    "                           'Consumer Lending':'Consumer Goods','Credit':'Credit Cards','Business Travel':'Transportation','Hospital':'Healthcare',\n",
    "                           'Automobile':'Automotive','Alternative Medicine':'Healthcare','Renewable Energy':'Energy','Clean Energy':'Energy','Music':'Music Streaming',\n",
    "                           'Health Diagnostics':'Healthcare','Medical':'Healthcare','Enterprise Software':'ERP','Enterprise Resource Planning (ERP)':'ERP',\n",
    "                           'Audio':'Music Streaming','Air Transportation':'Aerospace','Yoga & wellness':'Fitness','Beauty':'Cosmetics','Big Data':'Analytics',\n",
    "                           'Food and Beverage':'Catering','Wealth Management':'Finance','Social Media':'Digital Media','Broadcasting':'Media and Entertainment',\n",
    "                           'News':'Media and Entertainment','Packaging Services':'Logistics','Mobile':'Mobile Phones','Medical Device':'Healthcare',\n",
    "                           'Continuing Education':'Education','Dental':'Healthcare','Android':'Software','Banking':'Financial Services','Training':'Education',\n",
    "                           'Digital Marketing':'Advertising','Marketplace':'Advertising','Consumer Electronics':'Consumer Goods','Rental':'Facilities Support Services',\n",
    "                           'Retail':'Business Development','3D Printing':'Creative Agency','Electric Vehicle':'Automotive','Industrial Automation':'Manufacturing',\n",
    "                           'Battery':'Energy','Reading Apps':'Apps','B2B':'E-Commerce','Communities':'Environmental Consulting','Smart Cities':'Environmental Consulting',\n",
    "                           'Health Insurance':'Insurance','Commercial':'Business Development','Digital Entertainment':'Digital Media','Food & tech':'Catering',\n",
    "                           'Cloud Infrastructure':'Cloud Computing','Marketing':'Advertising','Events':'Creative Agency','Food tech':'Catering',\n",
    "                           'Artificial Intelligence':'AI','Business Intelligence':'ERP','Information Services':'IT','Information Technology':'IT',\n",
    "                           'E-Learning':'Education','Tourism':'Hospitality','Industrial':'Manufacturing','Internet':'IT','Internet of Things':'IoT',\n",
    "                           'Jewellery':'Fashion','Food & Nutrition':'Healthcare','Robotics & AI':'AI', 'E-marketplace':'E-Commerce','Foodtech':'Catering',\n",
    "                           'Insurance technology':'Insurance','Pharmaceutical':'Healthcare','Safety tech':'Cybersecurity',\"Fashion startup\":'Fashion',\n",
    "                             'Deisgning':'Creative Agency','Pharmacy':'Healthcare','Consultancy':'Creative Agency','Tech hub':'IT','E-connect':'Digital Media',\n",
    "                             'B2B Agritech':'AgTech','Food diet':'Healthcare','Preschool Daycare':'Child Care','AI Robotics':'AI','SaaS/Edtech':'Saas',\n",
    "                             'Transport & Rentals':'Transportation','Transport Automation':'Transportation','Neo-banking':'Financial Services',\n",
    "                             'Ad-tech':'Advertising','E-mobility':'Mobile Payment','E tailor':'E-Commerce','Estore':'E-Commerce','Housing & Rentals':'Real Estate',\n",
    "                             'AI & Deep learning':'AI','Sales & Services':'Business Development','VR & SaaS':'Saas','Hygiene':'CleanTech','Cleantech':'CleanTech',\n",
    "                             'Visual Media':'Media and Entertainment','Content Marktplace':'Advertising','Machine Learning':'AI','AI & Media':'AI',\n",
    "                             'E-tail':'E-Commerce','Automotive and Rentals':'Automotive','ravel tech':'Transportation','AI & Data science':'AI',\n",
    "                             'Finance company':'Finance','Tech company':'IT','Solar Monitoring Company':'Energy','Video sharing platform':'Media and Entertainment',\n",
    "                             'Gaming startup':'Gaming','Video streaming platform':'Media and Entertainment','Consumer appliances':'Consumer Goods',\n",
    "                             'Blockchain startup':'Blockchain','Conversational AI platform':'AI','SaaS platform':'Saas','AI platform':'AI',\n",
    "                             'Escrow':'Legal','Networking platform':'IT','Spacetech':'Aerospace','Trading platform':'E-Commerce','AI Company':'AI',\n",
    "                             'Photonics startup':'Media and Entertainment','Entertainment':'Media and Entertainment','Scanning app':'Apps',\n",
    "                             'Skincare startup':'Cosmetics','Food and Beverages':'Catering','FoodTech':'Catering','Biotechnology company':'Environmental Consulting',\n",
    "                             'Proptech':'Facilities Support Services','Fitness startup':'Fitness','PaaS startup':'Saas','Beverages':'Catering',\n",
    "                             'Automobiles':'Automotive','Deeptech':'AI','EV startup':'Environmental Consulting','AR/VR startup':'IT','Recruitment startup':'Human Resources',\n",
    "                             'Tourism & EV':'Hospitality','QSR startup':'Customer Service','Video platform':'Media and Entertainment',\n",
    "                             'Fusion beverages':'Catering','Job portal':'Human Resources','Dairy startup':'Catering','Content management':'Creative Agency',\n",
    "                             'Work fulfillment':'Human Resources','HR Tech':'Human Resources','Software Company':'Software','Soil-Tech':'Agriculture',\n",
    "                             'Travel & SaaS':'Transportation','Hygiene management':'CleanTech','Food & Bevarages':'Catering','Food Delivery':'Catering',\n",
    "                             'Virtual auditing startup':'FinTech','HealthTech':'Healthcare','AI startup':'AI','Tech Startup':'IT','Medtech':'Healthcare',\n",
    "                             'Tyre management':'Automotive','Cloud company':'Cloud Computing','Software company':'Software','Venture capitalist':'Finance',\n",
    "                             'Renewable player':'Energy','IoT startup':'IoT','SaaS startup':'Saas','Aero company':'Aerospace','Marketing company':'Advertising',\n",
    "                             'Retail startup':'Business Development','Co-working Startup':'Human Resources','—':'Unknown','Brand Marketing':'Advertising',\n",
    "                             'Fertility tech':'Healthcare','Luxury car startup':'Automotive','FM':'Media and Entertainment','Food':'Catering',\n",
    "                             'Nutrition sector':'Healthcare','Tech platform':'IT','Video':'Media and Entertainment','Retail Tech':'Business Development',\n",
    "                             'HeathTech':'Healthcare','Sles and marketing':'Advertising','LegalTech':'Legal','Car Service':'Automotive',\n",
    "                             'Bike marketplace':'Automotive','Agri tech':'AgTech','Reatil startup':'Business Development','AR platform':'IT',\n",
    "                             'Content marketplace':'Creative Agency','Interior Design':'Home Decor','Home Design':'Home Decor','InsureTech':'Insurance',\n",
    "                             'Rental space':'Facilities Support Services','Ayurveda tech':'IT','Packaging solution startup':'Logistics',\n",
    "                             'Sanitation solutions':'CleanTech','HealthCare':'Healthcare','AI Startup':'AI','Solar solution':'Energy','Tech':'IT',\n",
    "                             'Jewellery startup':'Fashion','Multinational conglomerate company':'Business Development','Deeptech startup':'AI',\n",
    "                             'Social Network':'Digital Media','Publication':'Creative Agency','Venture capital':'Finance','Entreprenurship':'Business Development',\n",
    "                             'E-market':'E-Commerce','Media & Networking':'Media and Entertainment','Automation tech':'Automotive','eMobility':'Mobile Payment',\n",
    "                             'Food devlivery':'Catering','Warehouse':'Facilities Support Services','Online financial service':'FinTech',\n",
    "                             'Eyeglasses':'Healthcare','Battery design':'Energy','Online credit management startup':'FinTech','Beverage':'Catering',\n",
    "                             'TravelTech':'Transportation','Startup laboratory':'Business Development','Personal care startup':'Fitness',\n",
    "                             'Customer service company':'Customer Service','SaaS\\xa0\\xa0startup':'Saas','Marketing startup':'Advertising',\n",
    "                             'Service industry':'Human Resources','Social media':'Digital Media','R startup':'IT','HR Tech startup':'Human Resources',\n",
    "                             'AR startup':'IT','Automotive Startup':'Automotive','Food Startup':'Catering','EdTech Startup':'Education',\n",
    "                             'Car Trade':'Automotive','EdtTech':'Education','AI Platform':'AI','Automation':'Automotive','Solar SaaS':'Saas',\n",
    "                             'WL & RAC protection':'Environmental Consulting','Social commerce':'E-Commerce','Home interior services':'Home Decor',\n",
    "                             'Agritech startup':'AgTech','API platform':'Software','Deep Tech':'AI','Electricity':'Energy','Automotive company':'Automotive',\n",
    "                             'FMCG':'Legal','Insurance Tech':'Insurance','Video personalization':'Media and Entertainment','Biomaterial startup':'Manufacturing',\n",
    "                             'Health':'Healthcare','Craft Beer':'Creative Agency','Investment':'Finance','Linguistic Spiritual':'Education',\n",
    "                             'Battery manufacturer':'Energy','Nano Distribution Network':'IT','AI health':'AI','Dating app':'Dating',\n",
    "                             'Media':'Media and Entertainment','Healthcare/Edtech':'Healthcare','Social Commerce':'E-Commerce','Agritech/Commerce':'AgTech',\n",
    "                             'Mobility tech':'Mobile Phones','Social e-commerce':'E-Commerce','Food & Logistics':'Logistics','SpaceTech':'Aerospace',\n",
    "                             'Nutrition Tech':'Healthcare','HR':'Human Resources','nan':'Unknown','Agritech':'AgTech','AR/VR':'IT',\n",
    "                             'Appliance':'Consumer Goods','Mental Health':'Healthcare','Solar Solution':'Energy','Saas':'SaaS','B2B marketplace':'E-Commerce',\n",
    "                             'Fashion Tech':'Fashion','Nutrition tech':'Healthcare','Health & Wellness':'Fitness','Cloud Kitchen':'Cloud Computing',\n",
    "                             'IoT/Automobile':'IoT','Eye Wear':'Healthcare','Digital tech':'IT','Data Intelligence':'ERP','Co-living':'Human Resources',\n",
    "                             'Food & Beverages':'Catering','Defense tech':'Cybersecurity','Construction tech':'Construction','Nutrition':'Healthcare',\n",
    "                             'Coworking':'Human Resources','Micro-mobiity':'Mobile Phones','Auto-tech':'Automotive','Robotics':'AI','Logitech':'IT',\n",
    "                             'Med Tech':'Healthcare','Life sciences':'Healthcare','Retail Aggregator':'Business Development','Deep Tech AI':'AI',\n",
    "                             'Biotech':'Environmental Consulting','HrTech':'Human Resources','AI & Debt':'AI','Transport':'Transportation',\n",
    "                             'Co-working':'Human Resources','Insurtech':'Insurance','Automotive tech':'Automotive','EV':'Environmental Consulting',\n",
    "                             'Supply chain, Agritech':'Logistics','Pharma':'Healthcare','Foodtech & Logistics':'Logistics','Housing':'Real Estate',\n",
    "                             'Data Analytics':'ERP','Investment Tech':'Finance','Biopharma':'Healthcare','Dairy':'Catering','Beauty & wellness':'Fitness',\n",
    "                             'Media Tech':'Media and Entertainment','E store':'E-Commerce','Data Science':'ERP','Travel tech':'Transportation',\n",
    "                             'Techonology':'IT','Taxation':'Accounting','Automobile Technology':'Automotive','Food Industry':'Catering','Financial Services':'Financial Services',\n",
    "                             'Interior & decor':'Home Decor','Health and Fitness':'Fitness','Location Analytics':'ERP','Mobility/Transport':'Transportation',\n",
    "                           'Technology':'IT','Farming':'Agriculture','Food Processing':'Catering','Collaboration':'Human Resources','Computer':'IT','Career Planning':'Human Resources',\n",
    "                           'Wedding':'Customer Service','Games':'Gaming','EdTech':'Education','B2B E-commerce':'E-Commerce','Home services':'Home Decor',\n",
    "                            'B2B service':'E-Commerce','Electronics':'Automotive','IT startup':'IT','Oil and Energy':'Energy','Milk startup':'Catering',\n",
    "                            'AI Chatbot':'AI','Food delivery':'Catering','Fantasy sports':'Sports','Video communication':'Media and Entertainment',\n",
    "                            'Skill development':'Education','Recruitment':'Human Resources','Computer Games':'Gaming','Apparel & Fashion':'Fashion',\n",
    "                            'Logistics & Supply Chain':'Logistics','SportsTech':'Sports','HRTech':'Human Resources','Wine & Spirits':'Catering',\n",
    "                            '-Commerce':'E-Commerce','Mechanical & Industrial Engineering':'Manufacturing','Lifestyle':'Fitness','Computer software':'Software',\n",
    "                            'Tech startup':'IT','Digital mortgage':'FinTech','Information Technology & Services':'IT','Furniture':'Home Decor',\n",
    "                            'Tobacco':'Consumer Goods','Insuretech':'Insurance','MLOps platform':'FinTech','Venture Capital':'Finance','Pet care':'Veterinary',\n",
    "                            'Drone':'Aeorspace','Wholesale':'Business Development','Spiritual':'Education','E-learning':'Education',\n",
    "                            'Consumer Services':'Customer Service','Venture Capital & Private Equity':'Finance','Health':'Helathcare',\n",
    "                             'Health, Wellness & Fitness':'Fitness','Education Management':'Education','Computer Software':'Software',\n",
    "                             'Software Startup':'Software','Digital platform':'Digital Media','B2B Ecommerce':'E-Commerce',\n",
    "                             'Online Media':'Media and Entertainment','Mobile Games':'Gaming','Food Production':'Catering',\n",
    "                             'Podcast':'Media and Entertainment','Content publishing':'Creative Agency','Water purification':'Environmental Consulting',\n",
    "                             'Content commerce':'Creative Agency','Innovation Management':'Creative Agency','Celebrity Engagement':'Media and Entertainment',\n",
    "                             'Personal Care':'Consumer Goods','Cannabis startup':'Consumer Goods','Blogging':'Media and Entertainment',\n",
    "                             'BioTechnology':'Environmental Consulting','B2B Marketplace':'E-Commerce','Health care':'Helathcare',\n",
    "                             'Social audio':'Media and Entertainment','Fashion and lifestyle':'Fashion','Delivery service':'Logistics',\n",
    "                            'Computer & Network Security':'IT','OTT':'IT','Capital Markets':'Finance','Social network':'Digital Media',\n",
    "                             'Hospital & Health Care':'Helathcare','Music Streaming':'Media and Entertainment','Mobility':'Mobile Phones',\n",
    "                             'Digital platform':'Digital Media','B2B Manufacturing':'Manufacturing','Solar':'Energy','TaaS startup':'SaaS',\n",
    "                            'Manufacturing startup':'Manufacturing','Vehicle repair startup':'Automotive','Advisory firm':'Legal',\n",
    "                            'Legaltech':'Legal','Pollution control equiptment':'Environmental Consulting','Fashion & Lifestyle':'Fashion',\n",
    "                            'D2C':'E-Commerce','Environmental Services':'Environmental Consulting','Merchandise':'Business Development',\n",
    "                            'Facilities Services':'Facilities Support Services','Marketing & Advertising':'Advertising',\n",
    "                            'Eyewear':'Helathcare','Healtcare':'Helathcare','D2C Business':'E-Commerce',\n",
    "                            'Biotechnology':'Environmental Consulting','NFT Marketplace':'E-Commerce','Aeorspace':'Aerospace',\n",
    "                            'Consumer software':'Consumer Goods','Social community':'Digital Media','Fishery':'Agriculture',\n",
    "                             'Renewables & Environment':'Energy','Online storytelling':'Media and Entertainment','Aviation':'Aerospace',\n",
    "                            'IT company':'IT','Environmental service':'Environmental Consulting','Job discovery platform':'Human Resources',\n",
    "                            'D2C Fashion':'Fashion','Heathcare':'Helathcare','CRM':'ERP','D2C startup':'E-Commerce',\n",
    "                            'Innovation management':'Creative Agency','Community platform':'Digital Media',\n",
    "                            'Networking':'IT','Consumer service':'Customer Service','Consumer goods':'Consumer Goods',\n",
    "                            'MarTech':'Manufacturing','Content creation':'Creative Agency','Augmented reality':'IT',\n",
    "                           'Crypto':'Cryptocurrency','Bike Rental':'Automotive','Beauty products':'Cosmetics',\n",
    "                             'FemTech':'Agriculture','Supply chain platform':'Logistics','Social platform':'Digital Media',\n",
    "                            'AI company':'AI','Sports startup':'Sports','Clothing':'Fashion','Analytics':'ERP',\n",
    "                            'IoT platform':'IoT','Commerce':'E-Commerce','Matrimony':'Cultural',\n",
    "                             'Defense & Space':'Cybersecurity','Business Supplies & Equipment':'Business Development',\n",
    "                            'NFT':'IT','Oil & Energy':'Energy','Company-as-a-Service':'SaaS','Textiles':'Fashion',\n",
    "                            'Professional Training & Coaching':'Education','Housing Marketplace':'Real Estate',\n",
    "                            'Real estate':'Real Estate','Furniture Rental':'Home Decor','Equity Management':'Finance',\n",
    "                           'Cloud kitchen':'Cloud Computing','Community':'Cultural','Higher Education':'Education',\n",
    "                            'Mechanical Or Industrial Engineering':'Manufacturing','D2C jewellery':'Fashion','Helathcare':'Healthcare',\n",
    "                            'Sales and Distribution':'Business Development','Translation & Localization':'Cultural',\n",
    "                            'Investment Banking':'Finance','Femtech':'Agriculture','sports':'Sports',\n",
    "                            'Foootwear':'Fashion','Legal Services':'Legal','Arts & Crafts':'Creative Agency',\n",
    "                            'Investment Management':'Finance','Management Consulting':'Human Resources',\n",
    "                             'B2B startup':'E-Commerce','Telecommunications':'Telecommuncation','Product studio':'Media and Entertainment',\n",
    "                             'Aviation & Aerospace':'Aerospace','Staffing & Recruiting':'Human Resources',\n",
    "                            'Design':'Home Decor','B2B Travel':'Transportation'}}, inplace=True)"
   ]
  },
  {
   "cell_type": "code",
   "execution_count": null,
   "id": "52c427d9",
   "metadata": {},
   "outputs": [],
   "source": [
    "data_2021['Sector'].unique()"
   ]
  },
  {
   "cell_type": "code",
   "execution_count": null,
   "id": "eae6e2f9",
   "metadata": {},
   "outputs": [],
   "source": [
    "# replacing nan with unknown\n",
    "data_2021['Sector']=data_2021['Sector'].fillna('Unknown')"
   ]
  },
  {
   "cell_type": "markdown",
   "id": "5efb847c",
   "metadata": {},
   "source": [
    "### Cleaning the Stage Column"
   ]
  },
  {
   "cell_type": "code",
   "execution_count": null,
   "id": "e1f6c2f7",
   "metadata": {},
   "outputs": [],
   "source": [
    "data_2021['Stage'].unique()"
   ]
  },
  {
   "cell_type": "code",
   "execution_count": null,
   "id": "0883e673",
   "metadata": {},
   "outputs": [],
   "source": [
    "data_2021.replace({'Stage':{'Pre-Seed':'Seed','Pre-series A':'Series A','Pre-series':'Seed','Pre-series C':'Series C',\n",
    "                            'Pre-Series B':'Series B','Series A-1':'Series A','Seed Funding':'Seed','Seed round':'Seed',\n",
    "                            'Pre-seed Round':'Seed','Pre seed Round':'Seed','Series A2':'Series A','Seies A':'Series A',\n",
    "                            'Pre Series A':'Series A','Angel Round':'Angel','Pre series A1':'Series A','Pre-series A1':'Series A',\n",
    "                            'Pre series A':'Series A','Seed Round':'Seed','Bridge Round':'Seed','Bridge':'Seed','Series F2':'Series F',\n",
    "                            'Edge':'Seed','Pre seed round':'Seed','Series B3':'Series B','Pre series C':'Series C',\n",
    "                            'Series A+':'Series A','Series D1':'Series D','Early seed':'Seed','Series C, D':'Series C',\n",
    "                           'Pre-series B':'Series B','Series B2':'Series B','Pre- series A':'Series A','Series F1':'Series F','Debt':'Seed',\n",
    "                            'Angel':'Seed','Debt':'Seed','Unknown':'Seed',\n",
    "                            'Angel':'Seed','Secondary Market':'Seed','Equity':'Seed','Grant':'Seed',\n",
    "                           'Seed+':'Seed','PE':'Seed','Seed A':'Series A','Pre-seed':'Seed'}},inplace=True)\n",
    "data_2021['Stage'].unique()"
   ]
  },
  {
   "cell_type": "code",
   "execution_count": null,
   "id": "a6c98cba",
   "metadata": {},
   "outputs": [],
   "source": [
    "# checking for the record with $300000 at the Stage column\n",
    "data_2021.loc[data_2021['Stage']=='$300000']"
   ]
  },
  {
   "cell_type": "markdown",
   "id": "edf20473",
   "metadata": {},
   "source": [
    "The inestigation reveals that the amount and stage column has been interchanged. Two different records had this transposition error. The code below is used to correct them correct them below."
   ]
  },
  {
   "cell_type": "code",
   "execution_count": null,
   "id": "52382f40",
   "metadata": {},
   "outputs": [],
   "source": [
    "# correcting the wrong placement of the HeadQuarter and Sector values\n",
    "data_2021.loc[data_2021['Company/Brand']=='Little Leap',['Amount($)','Sector','Stage']]=[300000, 'Education','Seed']\n",
    "# correcting the secod record found above\n",
    "data_2021.loc[data_2021['Company/Brand']=='BHyve',['Amount($)','Stage']]=[300000,'Seed']"
   ]
  },
  {
   "cell_type": "code",
   "execution_count": null,
   "id": "613655fd",
   "metadata": {},
   "outputs": [],
   "source": [
    " # checking for the record with $6000000 at the Stage column\n",
    "data_2021.loc[data_2021['Stage']=='$6000000']"
   ]
  },
  {
   "cell_type": "markdown",
   "id": "1854d1f3",
   "metadata": {},
   "source": [
    "This output revelaed that the sector named will have to be consistent with others. Aahain the stage column and the Amount column has been transposed. These are corrected in the code below"
   ]
  },
  {
   "cell_type": "code",
   "execution_count": null,
   "id": "303c8a2f",
   "metadata": {},
   "outputs": [],
   "source": [
    "# correcting the wrong placement of the HeadQuarter and Sector values\n",
    "data_2021.loc[data_2021['Company/Brand']=='MYRE Capital',['Amount($)','Sector','Stage']]=[6000000, 'Real Estate','Seed']"
   ]
  },
  {
   "cell_type": "code",
   "execution_count": null,
   "id": "7983fc18",
   "metadata": {},
   "outputs": [],
   "source": [
    " # checking for the record with $1000000 at the Stage column\n",
    "data_2021.loc[data_2021['Stage']=='$1000000']"
   ]
  },
  {
   "cell_type": "markdown",
   "id": "912430bd",
   "metadata": {},
   "source": [
    "This output revelaed that the sector named will have to be consistent with others. Aahain the stage column and the Amount column has been transposed. These are corrected in the code below"
   ]
  },
  {
   "cell_type": "code",
   "execution_count": null,
   "id": "62743c44",
   "metadata": {},
   "outputs": [],
   "source": [
    "# correcting the wrong placement of the HeadQuarter and Sector values\n",
    "data_2021.loc[data_2021['Company/Brand']=='Saarthi Pedagogy',['Amount($)','Sector','Stage']]=[1000000, 'Education','Seed']"
   ]
  },
  {
   "cell_type": "code",
   "execution_count": null,
   "id": "d84d7e9c",
   "metadata": {},
   "outputs": [],
   "source": [
    "data_2021['Stage'].unique()"
   ]
  },
  {
   "cell_type": "code",
   "execution_count": null,
   "id": "79c72a55",
   "metadata": {},
   "outputs": [],
   "source": [
    "# replacing nan with unknown\n",
    "data_2021['Stage']=data_2021['Stage'].fillna('Seed')"
   ]
  },
  {
   "cell_type": "markdown",
   "id": "f0173e68",
   "metadata": {},
   "source": [
    "### Cleaning the Amount($) Column"
   ]
  },
  {
   "cell_type": "code",
   "execution_count": null,
   "id": "de533f48",
   "metadata": {},
   "outputs": [],
   "source": [
    "data_2021['Amount($)'].unique()"
   ]
  },
  {
   "cell_type": "markdown",
   "id": "c68b2c3b",
   "metadata": {},
   "source": [
    "Values such as `Undisclosed`, `Series C`, `Seed`,`$Undisclosed`, `$undisclosed`, `Pre-series A` all wrongly entered into the Amount($) column. This will have to be investigated and corrected."
   ]
  },
  {
   "cell_type": "code",
   "execution_count": null,
   "id": "dfc8b491",
   "metadata": {},
   "outputs": [],
   "source": [
    "# checking for undisclosed in the amount column\n",
    "data_2021.loc[data_2021['Amount($)']=='Undisclosed']"
   ]
  },
  {
   "cell_type": "markdown",
   "id": "383e5105",
   "metadata": {},
   "source": [
    "The invetsigation output above revealed  that none of the records had the amount wrongly entered in a different column. It is obvious that the amount was not disclosed. Theey are replace with 0. "
   ]
  },
  {
   "cell_type": "code",
   "execution_count": null,
   "id": "633ee719",
   "metadata": {},
   "outputs": [],
   "source": [
    "# replacing the Undisclosed with nan\n",
    "data_2021.replace({'Amount($)':{'Undisclosed',np.nan}}, inplace=True)"
   ]
  },
  {
   "cell_type": "code",
   "execution_count": null,
   "id": "1b5ddaed",
   "metadata": {},
   "outputs": [],
   "source": [
    "# checking for $Undisclosed in the amount column\n",
    "data_2021.loc[data_2021['Amount($)']=='$Undisclosed']"
   ]
  },
  {
   "cell_type": "markdown",
   "id": "a968e19a",
   "metadata": {},
   "source": [
    "The invetsigation output above with 73 records revealed that none of the records had the amount wrongly entered in a different column. It is obvious that the amount was not disclosed. They are replace with 0."
   ]
  },
  {
   "cell_type": "code",
   "execution_count": null,
   "id": "b1a51f75",
   "metadata": {},
   "outputs": [],
   "source": [
    "# replacing the $Undisclosed with nan\n",
    "data_2021.replace({'Amount($)':{'$Undisclosed',np.nan}}, inplace=True)"
   ]
  },
  {
   "cell_type": "code",
   "execution_count": null,
   "id": "45347c68",
   "metadata": {},
   "outputs": [],
   "source": [
    "# checking for $undisclosed in the amount column\n",
    "data_2021.loc[data_2021['Amount($)']=='$undisclosed']"
   ]
  },
  {
   "cell_type": "markdown",
   "id": "62affd80",
   "metadata": {},
   "source": [
    "The invetsigation output above revealed that none of the records had the amount wrongly entered in a different column. It is obvious that the amount was not disclosed. They are replace with 0"
   ]
  },
  {
   "cell_type": "code",
   "execution_count": null,
   "id": "4b682300",
   "metadata": {},
   "outputs": [],
   "source": [
    "# replacing the $undisclosed with 0\n",
    "data_2021.replace({'Amount($)':{'$undisclosed',np.nan}}, inplace=True)"
   ]
  },
  {
   "cell_type": "code",
   "execution_count": null,
   "id": "141e85ad",
   "metadata": {},
   "outputs": [],
   "source": [
    "# checking for Series C in the amount column\n",
    "data_2021.loc[data_2021['Amount($)']=='Series C']"
   ]
  },
  {
   "cell_type": "markdown",
   "id": "c22f2921",
   "metadata": {},
   "source": [
    "This output revelas that there haas been some transposition at the investor, amount and stage column.\n",
    "\n",
    "This is corrected in the code below"
   ]
  },
  {
   "cell_type": "code",
   "execution_count": null,
   "id": "271cb2e9",
   "metadata": {},
   "outputs": [],
   "source": [
    "# correcting the wrong placement of the HeadQuarter and Sector values\n",
    "data_2021.loc[data_2021['Company/Brand']=='Fullife Healthcare',['Amount($)','Investor','Stage']]=[22000000, 'Morgan Stanley','Series C']"
   ]
  },
  {
   "cell_type": "code",
   "execution_count": null,
   "id": "a135b1dc",
   "metadata": {},
   "outputs": [],
   "source": [
    "# checking for Seed in the amount column\n",
    "data_2021.loc[data_2021['Amount($)']=='Seed']"
   ]
  },
  {
   "cell_type": "markdown",
   "id": "88561423",
   "metadata": {},
   "source": [
    "The output of the investigation shows that two records were involved with this error. The stage, investor and Amount columns were interchanged. This is corrected in the code below"
   ]
  },
  {
   "cell_type": "code",
   "execution_count": null,
   "id": "845fb2b1",
   "metadata": {},
   "outputs": [],
   "source": [
    "# correcting the wrong placement of the HeadQuarter and Sector values\n",
    "data_2021.loc[data_2021['Company/Brand']=='MoEVing',['Amount($)','Investor','Stage']]=[5000000, 'Unknown','Seed']\n",
    "\n",
    "#correcting the second record\n",
    "data_2021.loc[data_2021['Company/Brand']=='Godamwale',['Amount($)','Investor','Stage', 'Sector']]=[1000000, 'Unknown','Seed','Logistics']"
   ]
  },
  {
   "cell_type": "code",
   "execution_count": null,
   "id": "eb6e73fc",
   "metadata": {},
   "outputs": [],
   "source": [
    "# checking for Pre-series A in the amount column\n",
    "data_2021.loc[data_2021['Amount($)']=='Pre-series A']"
   ]
  },
  {
   "cell_type": "markdown",
   "id": "cd9b7b3c",
   "metadata": {},
   "source": [
    "The invetsor, Amount, and stage columns has been interchanged. The Sector column will be renamed to be consistent with others. \n",
    "\n",
    "This is correcetd in the code below"
   ]
  },
  {
   "cell_type": "code",
   "execution_count": null,
   "id": "6545642f",
   "metadata": {},
   "outputs": [],
   "source": [
    "data_2021.loc[data_2021['Company/Brand']=='AdmitKard',['Amount($)','Investor','Stage', 'Sector']]=[1000000, 'Unknown','Series A','Education']"
   ]
  },
  {
   "cell_type": "code",
   "execution_count": null,
   "id": "449cb2d5",
   "metadata": {},
   "outputs": [],
   "source": [
    "#First change the data type to a string to work on the special characters\n",
    "data_2021['Amount($)']=data_2021['Amount($)'].astype(str) "
   ]
  },
  {
   "cell_type": "code",
   "execution_count": null,
   "id": "311e265e",
   "metadata": {},
   "outputs": [],
   "source": [
    "# removing all special characters in the colum\n",
    "data_2021[\"Amount($)\"]=data_2021['Amount($)'].apply(lambda x: str(x).replace(\"$\" ,\"\")) \n",
    "data_2021[\"Amount($)\"]=data_2021['Amount($)'].apply(lambda x: str(x).replace(\",\" ,\"\"))"
   ]
  },
  {
   "cell_type": "code",
   "execution_count": null,
   "id": "e46607ec",
   "metadata": {},
   "outputs": [],
   "source": [
    "# change the data type to a float\n",
    "# The downcast parameter is used to set the data type to float\n",
    "data_2021['Amount($)'] = pd.to_numeric(data_2021['Amount($)'], errors='coerce', downcast='float') "
   ]
  },
  {
   "cell_type": "code",
   "execution_count": null,
   "id": "5318a912",
   "metadata": {},
   "outputs": [],
   "source": [
    "#replacing nan with median\n",
    "data_2021['Amount($)']=data_2021['Amount($)'].fillna(data_2021['Amount($)'].median())"
   ]
  },
  {
   "cell_type": "markdown",
   "id": "6af2bbae",
   "metadata": {},
   "source": [
    "### Cleaning the `Founders` Column"
   ]
  },
  {
   "cell_type": "code",
   "execution_count": null,
   "id": "aed3c212",
   "metadata": {},
   "outputs": [],
   "source": [
    "# all nan values are to be filled with unknown on the \n",
    "data_2021['Founders']=data_2021['Founders'].fillna('Unknown')"
   ]
  },
  {
   "cell_type": "markdown",
   "id": "eda6a6ff",
   "metadata": {},
   "source": [
    "### Cleaning the `Investor` Column"
   ]
  },
  {
   "cell_type": "code",
   "execution_count": null,
   "id": "2c5f8872",
   "metadata": {},
   "outputs": [],
   "source": [
    "# all nan values are to be filled with unknown on the \n",
    "data_2021['Investor']=data_2021['Investor'].fillna('Unknown')"
   ]
  },
  {
   "cell_type": "code",
   "execution_count": null,
   "id": "2698c637",
   "metadata": {},
   "outputs": [],
   "source": [
    "# checking for duplicate entries\n",
    "data_2021.duplicated().value_counts()"
   ]
  },
  {
   "cell_type": "code",
   "execution_count": null,
   "id": "8eeb7939",
   "metadata": {},
   "outputs": [],
   "source": [
    "# remove the duplicate record\n",
    "data_2021=data_2021.drop_duplicates(keep='first')  "
   ]
  },
  {
   "cell_type": "code",
   "execution_count": null,
   "id": "d0bdb148",
   "metadata": {},
   "outputs": [],
   "source": [
    "# checking for null values\n",
    "data_2021.isna().value_counts()"
   ]
  },
  {
   "cell_type": "markdown",
   "id": "3150914b",
   "metadata": {},
   "source": [
    "# Combining the Various Data Sets `2018`, `2019`, `2020`, `2021` into one"
   ]
  },
  {
   "cell_type": "code",
   "execution_count": null,
   "id": "86075d63",
   "metadata": {},
   "outputs": [],
   "source": [
    "# #creating a variable to hold the different dataframes\n",
    "data=[data_2018,data_2019,data_2020,data_2021]\n",
    "#concatenating the varibale holding the various dataframes\n",
    "combined_data=pd.concat(data,ignore_index=True)\n",
    "combined_data.head()"
   ]
  },
  {
   "cell_type": "code",
   "execution_count": null,
   "id": "7be0d47e",
   "metadata": {},
   "outputs": [],
   "source": [
    "combined_data.shape"
   ]
  },
  {
   "cell_type": "markdown",
   "id": "740b5e7e",
   "metadata": {},
   "source": [
    "### Saving the combined data set as a new file and reloading it for analysis"
   ]
  },
  {
   "cell_type": "code",
   "execution_count": null,
   "id": "c51341c4",
   "metadata": {},
   "outputs": [],
   "source": [
    "#saving the new dataframe after concatenation in order to have it work on it without having to change the other datasets\n",
    "combined_data.to_csv('combined_data.csv')\n",
    "combined_data.head()"
   ]
  },
  {
   "cell_type": "markdown",
   "id": "1e4478e1",
   "metadata": {},
   "source": [
    "## Exploratory Data Analysis (EDA)"
   ]
  },
  {
   "cell_type": "code",
   "execution_count": null,
   "id": "58bf4264",
   "metadata": {},
   "outputs": [],
   "source": [
    "# dropping unwanted column \n",
    "combined_data.drop('Unnamed: 9',axis=1, inplace=True)\n",
    "combined_data.head()"
   ]
  },
  {
   "cell_type": "code",
   "execution_count": null,
   "id": "36fe1da9",
   "metadata": {},
   "outputs": [],
   "source": [
    "dfSummary(combined_data, is_collapsible = False)"
   ]
  },
  {
   "cell_type": "markdown",
   "id": "f23f6f31",
   "metadata": {},
   "source": [
    "This summary output revelas one duplicated entry after merging the four data sets as one. The duplicate has to be dropped.\n",
    "    Since the initial 2018 data set did not have the `Founders` and `Investor` columns, it has been filled with `nan`. The cleaned records are identified with `Unknown`"
   ]
  },
  {
   "cell_type": "code",
   "execution_count": null,
   "id": "204578f0",
   "metadata": {},
   "outputs": [],
   "source": [
    "# Confirming checks for duplicate entries\n",
    "combined_data.duplicated().value_counts()"
   ]
  },
  {
   "cell_type": "markdown",
   "id": "1141fdd8",
   "metadata": {},
   "source": [
    "### Visually Inspecting Missing Data"
   ]
  },
  {
   "cell_type": "code",
   "execution_count": null,
   "id": "cd1f7ccb",
   "metadata": {},
   "outputs": [],
   "source": [
    "plt.figure(figsize=(10,6))\n",
    "sns.heatmap(combined_data.isna(),\n",
    "            cmap=\"YlGnBu\",\n",
    "            cbar_kws={'label': 'Missing Data'})"
   ]
  },
  {
   "cell_type": "markdown",
   "id": "a34286e3",
   "metadata": {},
   "source": [
    "The heatmap indicate a clustered missing values for the founders and Investors column. This is as a result of the 2018 data set not having values for this field before the data set merge."
   ]
  },
  {
   "cell_type": "markdown",
   "id": "dfc67818",
   "metadata": {},
   "source": [
    "## Univariate Analysis"
   ]
  },
  {
   "cell_type": "markdown",
   "id": "d4650124",
   "metadata": {},
   "source": [
    "### 1. Analysis on The `Amount($)` Column"
   ]
  },
  {
   "cell_type": "code",
   "execution_count": null,
   "id": "28bab54c",
   "metadata": {},
   "outputs": [],
   "source": [
    "combined_data['Amount($)'].head(20)"
   ]
  },
  {
   "cell_type": "code",
   "execution_count": null,
   "id": "ebfd12da",
   "metadata": {},
   "outputs": [],
   "source": [
    "# calculate basic statistical measures\n",
    "combined_data['Amount($)'].describe()"
   ]
  },
  {
   "cell_type": "markdown",
   "id": "d2f5a77b",
   "metadata": {},
   "source": [
    "The above metrics are visually inspected with a box plot below"
   ]
  },
  {
   "cell_type": "code",
   "execution_count": null,
   "id": "11f7bd06",
   "metadata": {},
   "outputs": [],
   "source": [
    "sns.boxplot(data=combined_data, x='Amount($)')"
   ]
  },
  {
   "cell_type": "markdown",
   "id": "74f64f5d",
   "metadata": {},
   "source": [
    "There are clear outliers in the amount column after which the rest of the values are clustered together"
   ]
  },
  {
   "cell_type": "code",
   "execution_count": null,
   "id": "ff5a053d",
   "metadata": {},
   "outputs": [],
   "source": [
    "# calculate z-scores\n",
    "z_score=scipy.stats.zscore(combined_data['Amount($)'])\n",
    "z_score.head(20)"
   ]
  },
  {
   "cell_type": "markdown",
   "id": "7ccd43cf",
   "metadata": {},
   "source": [
    "The z score is a type of statistical measurement that gives an idea of how far a raw score is from the mean of a distribution"
   ]
  },
  {
   "cell_type": "code",
   "execution_count": null,
   "id": "8af1ed12",
   "metadata": {},
   "outputs": [],
   "source": [
    "# find the indices of the outliers\n",
    "outliers_index = np.where(z_score >3)[0]\n",
    "outliers_index"
   ]
  },
  {
   "cell_type": "code",
   "execution_count": null,
   "id": "006f8a49",
   "metadata": {},
   "outputs": [],
   "source": [
    "# remove the outliers\n",
    "combined_data = combined_data.drop(combined_data.index[outliers_index])"
   ]
  },
  {
   "cell_type": "code",
   "execution_count": null,
   "id": "ef7d602c",
   "metadata": {},
   "outputs": [],
   "source": [
    "sns.boxplot(data=combined_data, x='Amount($)')"
   ]
  },
  {
   "cell_type": "markdown",
   "id": "8cb8ccbc",
   "metadata": {},
   "source": [
    "There seem to be more outliers which has the potential of distorting the mean. The median will however be less affected"
   ]
  },
  {
   "cell_type": "markdown",
   "id": "45be2a5a",
   "metadata": {},
   "source": [
    "### 2. Analysis of the `Stage` Column"
   ]
  },
  {
   "cell_type": "code",
   "execution_count": null,
   "id": "a64aa695",
   "metadata": {
    "scrolled": true
   },
   "outputs": [],
   "source": [
    "(combined_data[\"Stage\"].value_counts(normalize=True)*100)"
   ]
  },
  {
   "cell_type": "markdown",
   "id": "a7073e24",
   "metadata": {},
   "source": [
    "The high count of unnknowns is as a result of the 2018 data set. The info above is in percentage terms. This is graphically represented in the graph below"
   ]
  },
  {
   "cell_type": "code",
   "execution_count": null,
   "id": "d6879b3d",
   "metadata": {},
   "outputs": [],
   "source": [
    "   fig=sns.catplot(y=\"Stage\",data=combined_data, kind=\"count\", height=4, aspect=1.5)"
   ]
  },
  {
   "cell_type": "markdown",
   "id": "708aef28",
   "metadata": {},
   "source": [
    "### 3. Analysis of the `Sector` Column"
   ]
  },
  {
   "cell_type": "code",
   "execution_count": null,
   "id": "ee2b0191",
   "metadata": {},
   "outputs": [],
   "source": [
    "(combined_data[\"Sector\"].value_counts(normalize=True)*100)"
   ]
  },
  {
   "cell_type": "markdown",
   "id": "6e38c1a7",
   "metadata": {},
   "source": [
    "The FinTech sector has the highest percentage of 9.2%, followed by Healthcare 6.8% etc. This is also represented graphically below"
   ]
  },
  {
   "cell_type": "code",
   "execution_count": null,
   "id": "ba08cf7d",
   "metadata": {
    "scrolled": true
   },
   "outputs": [],
   "source": [
    "   sns.catplot(y=\"Sector\",data=combined_data, kind=\"count\", height=12.7, aspect=1.2)"
   ]
  },
  {
   "cell_type": "markdown",
   "id": "9314a420",
   "metadata": {},
   "source": [
    "Since there are about 90 different sectors, it will not be ideal to represent them all on a graph as it will not be visually appeaing, there compromising on undesrtanding. Futher analysis will sort either the top 120 or the least 10 for analysis"
   ]
  },
  {
   "cell_type": "markdown",
   "id": "7a6673bc",
   "metadata": {},
   "source": [
    "### 4. Analysis of the Founded Column"
   ]
  },
  {
   "cell_type": "code",
   "execution_count": null,
   "id": "efdf00a1",
   "metadata": {},
   "outputs": [],
   "source": [
    "  sns.catplot(y=\"Founded\",data=combined_data, kind=\"count\", height=6, aspect=1)"
   ]
  },
  {
   "cell_type": "markdown",
   "id": "319d3c6a",
   "metadata": {},
   "source": [
    "## Multivariate Analysis"
   ]
  },
  {
   "cell_type": "markdown",
   "id": "5c4c68a2",
   "metadata": {},
   "source": [
    "### 1. Analysis of the `Founded` and `Amount($)` Columns"
   ]
  },
  {
   "cell_type": "code",
   "execution_count": null,
   "id": "e2612477",
   "metadata": {},
   "outputs": [],
   "source": [
    "# Group the DataFrame by the 'Stage' column and count the occurrences of each stage\n",
    "amt_stage_count = combined_data.groupby('Founded')['Amount($)'].count()\n",
    "amt_stage_count.head()"
   ]
  },
  {
   "cell_type": "code",
   "execution_count": null,
   "id": "7af24036",
   "metadata": {},
   "outputs": [],
   "source": [
    "sns.lineplot(data=combined_data,\n",
    "            y='Founded',\n",
    "            x='Amount($)'\n",
    "            )"
   ]
  },
  {
   "cell_type": "markdown",
   "id": "d5775cad",
   "metadata": {},
   "source": [
    "The graph shows that only a few start up from 2012 and beyond have received enough funding. Again the funding for start-up took a marginal increase since 2012 and has since be on a stable rise"
   ]
  },
  {
   "cell_type": "markdown",
   "id": "75313b9d",
   "metadata": {},
   "source": [
    "### 2. Analysis of the `Amount($)` and the `Founded` Column"
   ]
  },
  {
   "cell_type": "code",
   "execution_count": null,
   "id": "a965f596",
   "metadata": {},
   "outputs": [],
   "source": [
    "sns.regplot(x='Amount($)', y='Founded', data=combined_data, scatter_kws={'color':'red'}, line_kws={'color':'blue'})\n"
   ]
  },
  {
   "cell_type": "markdown",
   "id": "a739af49",
   "metadata": {},
   "source": [
    "The regression graph indicated a weak and negative relationship between year of funding and amount of funding"
   ]
  },
  {
   "cell_type": "code",
   "execution_count": null,
   "id": "b2a0d077",
   "metadata": {},
   "outputs": [],
   "source": [
    "af_correlation = combined_data[['Amount($)', 'Founded']].corr()\n",
    "sns.heatmap(af_correlation, annot=True)\n"
   ]
  },
  {
   "cell_type": "markdown",
   "id": "dfe36b2a",
   "metadata": {},
   "source": [
    "### 3. Analysis of Stage and Founded Column"
   ]
  },
  {
   "cell_type": "code",
   "execution_count": null,
   "id": "903da1f0",
   "metadata": {},
   "outputs": [],
   "source": [
    "   fig=sns.catplot(y=\"Stage\",x=\"Founded\",data=combined_data, kind=\"strip\", height=4, aspect=1.5)"
   ]
  },
  {
   "cell_type": "markdown",
   "id": "ec8b04bd",
   "metadata": {},
   "source": [
    "It is observed that the seed stage has more spread across the various years as compared to the other stages. They are clustered between 2010 and 2021"
   ]
  },
  {
   "cell_type": "markdown",
   "id": "d9e9fd3d",
   "metadata": {},
   "source": [
    "### 4. Analysis of all other  Numeric Columns"
   ]
  },
  {
   "cell_type": "code",
   "execution_count": null,
   "id": "dd575486",
   "metadata": {},
   "outputs": [],
   "source": [
    "sns.pairplot(combined_data, vars=None, hue='Stage', diag_kind='auto', markers='*', plot_kws=None, diag_kws=None, grid_kws=None, height=3.5,aspect=1.5)"
   ]
  },
  {
   "cell_type": "markdown",
   "id": "5bdf379c",
   "metadata": {},
   "source": [
    "## Answering The Business Questions"
   ]
  },
  {
   "cell_type": "markdown",
   "id": "73f6fb05",
   "metadata": {},
   "source": [
    "### Question 1. Does the sort of industry have an impact on funding success?"
   ]
  },
  {
   "cell_type": "code",
   "execution_count": null,
   "id": "33b9523b",
   "metadata": {},
   "outputs": [],
   "source": [
    "# Group the DataFrame by the 'sector' column and count the occurrences of each stage\n",
    "sectoramt_count = combined_data.groupby('Sector')['Amount($)'].count().reset_index()\n",
    "\n",
    "# # Sort the counts in descending order and select the top 10 values\n",
    "top_count = sectoramt_count.sort_values(by='Amount($)', ascending=False).head(10)\n",
    "\n",
    "\n",
    "# # Create the vertical bar chart\n",
    "figure = plt.figure(figsize = (10, 5))\n",
    "topgraph = sns.barplot(data=top_count, x='Amount($)', y='Sector',orient='h')\n",
    "\n",
    "# Add labels and title\n",
    "plt.ylabel(\"Sector\")\n",
    "plt.xlabel(\"Amount($)\\n\\n\")\n",
    "plt.title(\"Top 10 Sectors With Most Start-up Investment\\n\")\n",
    "plt.show()\n",
    "\n",
    "# Group the DataFrame by the 'sector' column and count the occurrences of each stage\n",
    "sectoramt_count = combined_data.groupby('Sector')['Amount($)'].count().reset_index()\n",
    "\n",
    "# # Sort the counts in descending order and select the last 10 values\n",
    "bottom_count = sectoramt_count.sort_values(by='Amount($)', ascending=False).tail(10)\n",
    "\n",
    "# # Create the vertical bar chart\n",
    "figure = plt.figure(figsize = (10, 5))\n",
    "bottomgraph = sns.barplot(data=bottom_count, x='Amount($)', y='Sector',orient='h')\n",
    "\n",
    "# Add labels and title\n",
    "plt.ylabel(\"Sector\")\n",
    "plt.xlabel(\"Amount($)\")\n",
    "plt.title(\"Bottom 10 Sectors With Most Start-up Investment\\n\")\n",
    "plt.show()\n",
    "\n",
    "gp=top_count = sectoramt_count.sort_values(by='Amount($)', ascending=False)\n"
   ]
  },
  {
   "cell_type": "markdown",
   "id": "73e2f725",
   "metadata": {},
   "source": [
    "The two graph above confirms that the the sector or industry of the start-up can influence the funding it receives. Other varibales like the stage of the start-up might come to play. However, the sector affects the amount of funding received.\n",
    "\n",
    "The first graph which showed the top 10 indicates that most of the funding were received in technology dominated sectors.\n",
    "The second graph which show the bottom 10. indicates less difference in the sectors as most of them received similar funding"
   ]
  },
  {
   "cell_type": "code",
   "execution_count": null,
   "id": "a13c3485",
   "metadata": {},
   "outputs": [],
   "source": [
    "sns.catplot(data=gp, y='Sector',x='Amount($)', kind='bar', height=14, aspect=1.2)"
   ]
  },
  {
   "cell_type": "markdown",
   "id": "21bc763d",
   "metadata": {},
   "source": [
    "### Question 2. Can the success of obtaining finance from investors be impacted by location?"
   ]
  },
  {
   "cell_type": "code",
   "execution_count": null,
   "id": "216ba4cb",
   "metadata": {},
   "outputs": [],
   "source": [
    "# Group the DataFrame by the 'headquater' column and count the occurrences of each stage\n",
    "hqamt_grp = combined_data.groupby('HeadQuarter')['Amount($)'].sum().reset_index()\n",
    "\n",
    "# # Sort the counts in descending order and select the top 10 values\n",
    "top_grp = hqamt_grp.sort_values(by = 'Amount($)', ascending = False).head(10)\n",
    "\n",
    "# # Create the vertical bar chart\n",
    "sns.barplot(data=top_grp, x='Amount($)', y='HeadQuarter',orient='h',)\n",
    "\n",
    "plt.ylabel(\"Location\")\n",
    "plt.xlabel(\"Amount($)\")\n",
    "plt.title(\"Top 10 Location With Most Start-up Investment\\n\")\n",
    "plt.show()\n"
   ]
  },
  {
   "cell_type": "markdown",
   "id": "16a6356d",
   "metadata": {},
   "source": [
    "The graph supports the notion that the location of the start up can  affect its funding. "
   ]
  },
  {
   "cell_type": "markdown",
   "id": "b2342292",
   "metadata": {},
   "source": [
    "### Question 3. Which stage receives more investment from investors for start-ups?"
   ]
  },
  {
   "cell_type": "code",
   "execution_count": null,
   "id": "5d23fdd2",
   "metadata": {},
   "outputs": [],
   "source": [
    "# Group the DataFrame by the 'Stage' column and count the occurrences of each stage\n",
    "stageamt_grp = combined_data.groupby('Stage')['Amount($)'].sum().reset_index()\n",
    "\n",
    "# # Sort the counts in descending order and select the top 10 values\n",
    "stageamt_grp = stageamt_grp.sort_values(by = 'Amount($)', ascending = False).head(10)\n",
    "\n",
    "\n",
    "figure = plt.figure(figsize = (10, 5))\n",
    "\n",
    "# Create a bar chart using seaborn\n",
    "sns.barplot(y='Stage', x='Amount($)', data=stageamt_grp)\n",
    "\n",
    "# Add labels and title\n",
    "plt.ylabel(\"Stage\")\n",
    "plt.xlabel(\"Amount($)\")\n",
    "plt.title(\"Top 10 Stages With Most Start-up Investment\")\n",
    "\n",
    "# Rotate y-labels by 30 degrees\n",
    "#ax.set_yticklabels(ax.get_yticklabels(), rotation=30)\n",
    "\n",
    "\n",
    "# set y ticks and labels\n",
    "plt.xticks(rotation = 0)\n",
    "\n",
    "# Show the plot\n",
    "plt.show()\n"
   ]
  },
  {
   "cell_type": "markdown",
   "id": "ccc88368",
   "metadata": {},
   "source": [
    "The seed stage has the highest start-up investment"
   ]
  },
  {
   "cell_type": "markdown",
   "id": "7910fc89",
   "metadata": {},
   "source": [
    "### Question 4. Who makes the biggest investments among investors?"
   ]
  },
  {
   "cell_type": "code",
   "execution_count": null,
   "id": "a807632a",
   "metadata": {},
   "outputs": [],
   "source": [
    "\n",
    "# Group the DataFrame by the 'investors' column and count the occurrences of each stage\n",
    "invamt_grp = combined_data.groupby('Investor')['Amount($)'].sum().reset_index()\n",
    "\n",
    "# # Sort the counts in descending order and select the top 10 values\n",
    "invamt_grp = invamt_grp.sort_values(by = 'Amount($)', ascending = False).head(10)\n",
    "\n",
    "\n",
    "figure = plt.figure(figsize = (10, 5))\n",
    "\n",
    "# Create a bar chart using seaborn\n",
    "sns.barplot(y='Investor', x='Amount($)', data=invamt_grp)\n",
    "\n",
    "# Add labels and title\n",
    "plt.ylabel(\"Investor\")\n",
    "plt.xlabel(\"Amount($)\")\n",
    "plt.title(\"Top 10 Investors with the Most Investment\")\n",
    "\n",
    "# Rotate y-labels by 30 degrees\n",
    "#ax.set_yticklabels(ax.get_yticklabels(), rotation=30)\n",
    "\n",
    "\n",
    "# set y ticks and labels\n",
    "plt.xticks(rotation = 0)\n",
    "\n",
    "# Show the plot\n",
    "plt.show()"
   ]
  },
  {
   "cell_type": "markdown",
   "id": "09d950e1",
   "metadata": {},
   "source": [
    "### Question 5. Can the startup's Year of founding affect the Amount of funding it receives from investors?"
   ]
  },
  {
   "cell_type": "code",
   "execution_count": null,
   "id": "86dc1f6e",
   "metadata": {},
   "outputs": [],
   "source": [
    "combined_data['Founded']=combined_data['Founded'].astype(str)\n",
    "combined_data['Founded']=combined_data.Founded.str.split('.').str[0]\n",
    "\n",
    "# Group the DataFrame by the 'investors' column and count the occurrences of each stage\n",
    "famt_grp = combined_data.groupby('Founded')['Amount($)'].sum().reset_index()\n",
    "\n",
    "# # Sort the counts in descending order and select the top 10 values\n",
    "famt_grp = famt_grp.sort_values(by = 'Amount($)', ascending = False).head(10)\n",
    "\n",
    "\n",
    "figure = plt.figure(figsize = (10, 5))\n",
    "\n",
    "# Create a bar chart using seaborn\n",
    "sns.lineplot(x='Founded', y='Amount($)', data=famt_grp)\n",
    "\n",
    "# Add labels and title\n",
    "plt.xlabel(\"Founded\")\n",
    "plt.ylabel(\"Amount($)\")\n",
    "plt.title(\"Top 10 Year Founded with the Most Investment\\n\")\n",
    "\n",
    "# Rotate y-labels by 30 degrees\n",
    "#ax.set_yticklabels(ax.get_yticklabels(), rotation=30)\n",
    "\n",
    "\n",
    "# set y ticks and labels\n",
    "plt.xticks(rotation = 0)\n",
    "\n",
    "# Show the plot\n",
    "plt.show()"
   ]
  },
  {
   "cell_type": "markdown",
   "id": "3bd9e7f0",
   "metadata": {},
   "source": [
    "Year founded was on a sinificant rise in 2019 after years of fluctuating runs. However it to a sharp decline in 2019 and re sparked in 2020. Again 2021 missed out on the top 10 as it was on a heavy decline"
   ]
  },
  {
   "cell_type": "markdown",
   "id": "fb2cf3ec",
   "metadata": {},
   "source": [
    "### Hypothesis Testing"
   ]
  },
  {
   "cell_type": "code",
   "execution_count": null,
   "id": "f2790017",
   "metadata": {},
   "outputs": [],
   "source": [
    "# # Create a variable to hold the columns on which hypothesis is to be tested\n",
    "# hypothesis = pd.crosstab(combined_data['Founded'], combined_data['Amount($)'])\n",
    "\n",
    "combined_data['Founded']=combined_data['Founded'].astype(int)\n",
    "\n",
    "# # Perform the t test\n",
    "t,p=stats.ttest_ind(combined_data['Founded'],combined_data['Amount($)'])\n",
    "print(\"P-value:\", p)\n",
    "print(\"T-value:\", t)"
   ]
  },
  {
   "cell_type": "markdown",
   "id": "1955e775",
   "metadata": {},
   "source": [
    "since the p-value  is less than the the significant value of 0.05, the null hypothesis is rejected."
   ]
  },
  {
   "cell_type": "code",
   "execution_count": null,
   "id": "29b1565f",
   "metadata": {},
   "outputs": [],
   "source": []
  }
 ],
 "metadata": {
  "kernelspec": {
   "display_name": "Python 3 (ipykernel)",
   "language": "python",
   "name": "python3"
  },
  "language_info": {
   "codemirror_mode": {
    "name": "ipython",
    "version": 3
   },
   "file_extension": ".py",
   "mimetype": "text/x-python",
   "name": "python",
   "nbconvert_exporter": "python",
   "pygments_lexer": "ipython3",
   "version": "3.10.9"
  }
 },
 "nbformat": 4,
 "nbformat_minor": 5
}
